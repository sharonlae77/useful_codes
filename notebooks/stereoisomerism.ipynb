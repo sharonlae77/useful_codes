{
 "cells": [
  {
   "cell_type": "code",
   "execution_count": null,
   "metadata": {
    "colab": {
     "base_uri": "https://localhost:8080/"
    },
    "executionInfo": {
     "elapsed": 26461,
     "status": "ok",
     "timestamp": 1757120208121,
     "user": {
      "displayName": "Sharon Lam",
      "userId": "16351729373087846634"
     },
     "user_tz": -480
    },
    "id": "Ne9wiMoS97jl",
    "outputId": "231ce813-54a4-4525-eb80-948c57c645fe"
   },
   "outputs": [],
   "source": [
    "!pip install rdkit\n",
    "!pip install pandas"
   ]
  },
  {
   "cell_type": "code",
   "execution_count": null,
   "metadata": {
    "executionInfo": {
     "elapsed": 611,
     "status": "ok",
     "timestamp": 1757120208735,
     "user": {
      "displayName": "Sharon Lam",
      "userId": "16351729373087846634"
     },
     "user_tz": -480
    },
    "id": "TZ37dwYB95wR"
   },
   "outputs": [],
   "source": [
    "from rdkit import Chem\n",
    "from rdkit.Chem import Draw, MolFromSmiles\n",
    "from rdkit.Chem.Draw import rdMolDraw2D\n",
    "import pandas as pd\n",
    "import numpy as np\n",
    "from PIL import Image\n",
    "import io"
   ]
  },
  {
   "cell_type": "code",
   "execution_count": null,
   "metadata": {
    "colab": {
     "base_uri": "https://localhost:8080/",
     "height": 1000
    },
    "executionInfo": {
     "elapsed": 1365,
     "status": "ok",
     "timestamp": 1757120236223,
     "user": {
      "displayName": "Sharon Lam",
      "userId": "16351729373087846634"
     },
     "user_tz": -480
    },
    "id": "K1z9Cdto9kI8",
    "outputId": "ba157a1e-6963-4786-9a7d-e790995abe87"
   },
   "outputs": [],
   "source": [
    "data_smiles = pd.read_csv('https://raw.githubusercontent.com/sharonlae77/useful_codes/main/data/data_smiles.csv')\n",
    "molecule = [MolFromSmiles(i) for i in data_smiles['smiles']]\n",
    "chiral_tags = [Chem.AssignAtomChiralTagsFromStructure(mol) for mol in molecule]\n",
    "names = [name for name in data_smiles['name']]\n",
    "\n",
    "highlight_lists = []\n",
    "\n",
    "for mol in molecule:\n",
    "    atom_index_list = []\n",
    "    atom_label_list = []\n",
    "    highlight_list = []\n",
    "    for atom in mol.GetAtoms():\n",
    "        if atom.HasProp('_CIPCode'):\n",
    "            atom_index = atom.GetIdx()\n",
    "            atom_index_list.append(atom_index)\n",
    "            atom_label = atom.GetProp('_CIPCode')\n",
    "            atom_label_list.append(atom_label)\n",
    "\n",
    "    Chem.AssignStereochemistry(mol, cleanIt=True, force=True)\n",
    "\n",
    "    atoms = [mol.GetAtomWithIdx(i) for i in atom_index_list]\n",
    "    for i in range(len(atoms)):\n",
    "        atoms[i].SetProp(\"atomNote\", atom_label_list[i])\n",
    "    highlight_lists.append(atom_index_list)\n",
    "\n",
    "    bond_index_list = []\n",
    "    bond_label_list = []\n",
    "    for bond in mol.GetBonds():\n",
    "        if bond.GetBondType() == Chem.BondType.DOUBLE:\n",
    "            bond_index = bond.GetIdx()\n",
    "            stereo = bond.GetStereo()\n",
    "            if stereo == Chem.BondStereo.STEREOE:\n",
    "                bond_label_list.append(\"E\")\n",
    "                bond_index_list.append(bond_index)\n",
    "            elif stereo == Chem.BondStereo.STEREOZ:\n",
    "                bond_label_list.append(\"Z\")\n",
    "                bond_index_list.append(bond_index)\n",
    "\n",
    "    bonds = [mol.GetBondWithIdx(i) for i in bond_index_list]\n",
    "    for i in range(len(bonds)):\n",
    "        bonds[i].SetProp(\"bondNote\", bond_label_list[i])\n",
    "\n",
    "images = []\n",
    "img_size = (1000, 500)\n",
    "\n",
    "\n",
    "for mol, highlights, name in zip(molecule, highlight_lists, names):\n",
    "    drawer = rdMolDraw2D.MolDraw2DCairo(img_size[0], img_size[1])\n",
    "    rdMolDraw2D.PrepareAndDrawMolecule(drawer,\n",
    "                                       mol,\n",
    "                                       legend=name,\n",
    "                                       highlightAtoms=highlights,\n",
    "                                      )\n",
    "    drawer.FinishDrawing()\n",
    "    img_bytes = drawer.GetDrawingText()\n",
    "    img = Image.open(io.BytesIO(img_bytes))\n",
    "    images.append(img)\n",
    "\n",
    "cols = 1\n",
    "rows = (len(images) + cols - 1) // cols\n",
    "grid_img = Image.new('RGB', (cols * img_size[0], rows * img_size[1]), color='white')\n",
    "for idx, img in enumerate(images):\n",
    "    x = (idx % cols) * img_size[0]\n",
    "    y = (idx // cols) * img_size[1]\n",
    "    grid_img.paste(img, (x, y))\n",
    "\n",
    "grid_img"
   ]
  },
  {
   "cell_type": "code",
   "execution_count": null,
   "metadata": {
    "id": "V395oyEz-8d2"
   },
   "outputs": [],
   "source": []
  },
  {
   "cell_type": "code",
   "execution_count": null,
   "metadata": {
    "id": "pKgGWQ0rB_O-"
   },
   "outputs": [],
   "source": []
  }
 ],
 "metadata": {
  "colab": {
   "authorship_tag": "ABX9TyMPGI/rfuMVw6ogO92hAvJr",
   "provenance": []
  },
  "kernelspec": {
   "display_name": "Python 3 (ipykernel)",
   "language": "python",
   "name": "python3"
  },
  "language_info": {
   "codemirror_mode": {
    "name": "ipython",
    "version": 3
   },
   "file_extension": ".py",
   "mimetype": "text/x-python",
   "name": "python",
   "nbconvert_exporter": "python",
   "pygments_lexer": "ipython3",
   "version": "3.12.11"
  }
 },
 "nbformat": 4,
 "nbformat_minor": 4
}
