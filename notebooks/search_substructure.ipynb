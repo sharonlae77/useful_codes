{
 "cells": [
  {
   "cell_type": "code",
   "execution_count": null,
   "metadata": {
    "colab": {
     "base_uri": "https://localhost:8080/"
    },
    "executionInfo": {
     "elapsed": 23251,
     "status": "ok",
     "timestamp": 1757126620615,
     "user": {
      "displayName": "Sharon Lam",
      "userId": "16351729373087846634"
     },
     "user_tz": -480
    },
    "id": "ilP_1nbX5vKc",
    "outputId": "54abafb7-0b0a-4708-992f-8c866bd794c7"
   },
   "outputs": [],
   "source": [
    "!pip install rdkit\n",
    "!pip install pandas\n",
    "!pip install git+https://github.com/mcs07/PubChemPy.git@a5d8646"
   ]
  },
  {
   "cell_type": "code",
   "execution_count": null,
   "metadata": {
    "executionInfo": {
     "elapsed": 1,
     "status": "ok",
     "timestamp": 1757126620623,
     "user": {
      "displayName": "Sharon Lam",
      "userId": "16351729373087846634"
     },
     "user_tz": -480
    },
    "id": "DuZhuB5w5tmW"
   },
   "outputs": [],
   "source": [
    "from rdkit.Chem import MolFromSmiles\n",
    "import pandas as pd\n",
    "import pubchempy as pcp"
   ]
  },
  {
   "cell_type": "code",
   "execution_count": null,
   "metadata": {
    "colab": {
     "base_uri": "https://localhost:8080/",
     "height": 167
    },
    "executionInfo": {
     "elapsed": 977,
     "status": "ok",
     "timestamp": 1757126667720,
     "user": {
      "displayName": "Sharon Lam",
      "userId": "16351729373087846634"
     },
     "user_tz": -480
    },
    "id": "2ikIlNvH5S9q",
    "outputId": "4f9caf47-eeba-419b-9ba5-28f248a7c8db"
   },
   "outputs": [],
   "source": [
    "hiv = pd.read_csv('HIV.csv')\n",
    "actives = hiv[hiv['HIV_active']==1].reset_index(drop=True)\n",
    "molecule = [MolFromSmiles(i) for i in actives['smiles']]\n",
    "try:\n",
    "    compound = pcp.get_compounds('indole','name')[0]\n",
    "    substructure = compound.smiles\n",
    "except:\n",
    "    substructure = None\n",
    "\n",
    "substructure = MolFromSmiles(substructure)"
   ]
  },
  {
   "cell_type": "code",
   "execution_count": null,
   "metadata": {
    "colab": {
     "base_uri": "https://localhost:8080/",
     "height": 167
    },
    "executionInfo": {
     "elapsed": 57,
     "status": "ok",
     "timestamp": 1757126701779,
     "user": {
      "displayName": "Sharon Lam",
      "userId": "16351729373087846634"
     },
     "user_tz": -480
    },
    "id": "7m_Ixcip6Yst",
    "outputId": "c6f79297-9092-4025-c4ad-f25cb6b338cf"
   },
   "outputs": [],
   "source": [
    "substructure"
   ]
  },
  {
   "cell_type": "code",
   "execution_count": null,
   "metadata": {
    "colab": {
     "base_uri": "https://localhost:8080/",
     "height": 833
    },
    "executionInfo": {
     "elapsed": 121,
     "status": "ok",
     "timestamp": 1757126704932,
     "user": {
      "displayName": "Sharon Lam",
      "userId": "16351729373087846634"
     },
     "user_tz": -480
    },
    "id": "N8_bA0aC6biN",
    "outputId": "f991e0da-0b96-40d2-fb91-2ff37ebb488b"
   },
   "outputs": [],
   "source": [
    "present = []\n",
    "for mol in molecule:\n",
    "    match = mol.GetSubstructMatch(substructure)\n",
    "    if match:\n",
    "      present.append('yes')\n",
    "    else:\n",
    "      present.append('no')\n",
    "\n",
    "present = pd.DataFrame(present,columns=['indole_present'])\n",
    "df = pd.concat([actives,present],axis=1)\n",
    "\n",
    "df[df['indole_present']=='yes']"
   ]
  },
  {
   "cell_type": "code",
   "execution_count": null,
   "metadata": {
    "colab": {
     "base_uri": "https://localhost:8080/"
    },
    "executionInfo": {
     "elapsed": 26,
     "status": "ok",
     "timestamp": 1757126720889,
     "user": {
      "displayName": "Sharon Lam",
      "userId": "16351729373087846634"
     },
     "user_tz": -480
    },
    "id": "TedKyiMC6fL1",
    "outputId": "b5bebf71-67e8-47a4-c689-cc58e06f38c3"
   },
   "outputs": [],
   "source": [
    "len(df[df['indole_present']=='yes'])"
   ]
  },
  {
   "cell_type": "code",
   "execution_count": null,
   "metadata": {
    "colab": {
     "base_uri": "https://localhost:8080/"
    },
    "executionInfo": {
     "elapsed": 14,
     "status": "ok",
     "timestamp": 1757126729681,
     "user": {
      "displayName": "Sharon Lam",
      "userId": "16351729373087846634"
     },
     "user_tz": -480
    },
    "id": "nMoyeOgr6fwR",
    "outputId": "831aad19-4cef-4568-8292-0a59706ffa1d"
   },
   "outputs": [],
   "source": [
    "len(actives)"
   ]
  },
  {
   "cell_type": "code",
   "execution_count": null,
   "metadata": {
    "id": "lSgTn4Vr6h6f"
   },
   "outputs": [],
   "source": []
  }
 ],
 "metadata": {
  "colab": {
   "authorship_tag": "ABX9TyM6L/Ek36I80dHAcOMLABiA",
   "provenance": []
  },
  "kernelspec": {
   "display_name": "Python 3 (ipykernel)",
   "language": "python",
   "name": "python3"
  },
  "language_info": {
   "codemirror_mode": {
    "name": "ipython",
    "version": 3
   },
   "file_extension": ".py",
   "mimetype": "text/x-python",
   "name": "python",
   "nbconvert_exporter": "python",
   "pygments_lexer": "ipython3",
   "version": "3.12.11"
  }
 },
 "nbformat": 4,
 "nbformat_minor": 4
}
