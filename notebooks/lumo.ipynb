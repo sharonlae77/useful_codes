{
 "cells": [
  {
   "cell_type": "code",
   "execution_count": null,
   "metadata": {
    "colab": {
     "base_uri": "https://localhost:8080/"
    },
    "executionInfo": {
     "elapsed": 54700,
     "status": "ok",
     "timestamp": 1757144140871,
     "user": {
      "displayName": "Sharon Lam",
      "userId": "16351729373087846634"
     },
     "user_tz": -480
    },
    "id": "W7UlvbjNqPK7",
    "outputId": "c8e285b2-5dc1-425c-ce92-a2ed172f0ab1"
   },
   "outputs": [],
   "source": [
    "!pip install rdkit\n",
    "!pip install py3Dmol\n",
    "!pip install fortecubeview\n",
    "!pip install pythreejs\n",
    "!pip install pyscf"
   ]
  },
  {
   "cell_type": "code",
   "execution_count": null,
   "metadata": {
    "colab": {
     "base_uri": "https://localhost:8080/"
    },
    "executionInfo": {
     "elapsed": 9803,
     "status": "ok",
     "timestamp": 1757146223540,
     "user": {
      "displayName": "Sharon Lam",
      "userId": "16351729373087846634"
     },
     "user_tz": -480
    },
    "id": "dXUjVXIcnhbb",
    "outputId": "86e2c4e3-fc64-41a5-9cf9-6a5050626a3f"
   },
   "outputs": [],
   "source": [
    "import pathlib\n",
    "from rdkit import Chem\n",
    "from rdkit.Chem import (\n",
    "    AllChem,\n",
    "    rdCoordGen,\n",
    ")\n",
    "from rdkit.Chem.Draw import IPythonConsole\n",
    "\n",
    "IPythonConsole.ipython_useSVG = True  # Use higher quality images for molecules\n",
    "\n",
    "import py3Dmol\n",
    "import fortecubeview\n",
    "\n",
    "from pyscf import gto, scf, lo, tools\n",
    "\n",
    "import matplotlib\n",
    "from matplotlib import pyplot as plt\n",
    "import seaborn as sns\n",
    "\n",
    "%matplotlib inline\n",
    "sns.set_theme(style=\"ticks\", context=\"talk\", palette=\"muted\")\n",
    "\n",
    "import numpy as np\n",
    "import pandas as pd\n",
    "\n",
    "pd.options.display.float_format = \"{:,.3f}\".format"
   ]
  },
  {
   "cell_type": "code",
   "execution_count": null,
   "metadata": {
    "colab": {
     "base_uri": "https://localhost:8080/",
     "height": 171
    },
    "executionInfo": {
     "elapsed": 20,
     "status": "ok",
     "timestamp": 1757147317097,
     "user": {
      "displayName": "Sharon Lam",
      "userId": "16351729373087846634"
     },
     "user_tz": -480
    },
    "id": "q1IBmhu_qQXK",
    "outputId": "8389732f-45a3-4c9e-d893-eb2bcc3c002d"
   },
   "outputs": [],
   "source": [
    "molecule_name = \"maleic anhydride\"\n",
    "molecule = Chem.MolFromSmiles(\"C1=CC(=O)OC1=O\")  # Generate the molecule from smiles\n",
    "molecule"
   ]
  },
  {
   "cell_type": "code",
   "execution_count": null,
   "metadata": {
    "executionInfo": {
     "elapsed": 9,
     "status": "ok",
     "timestamp": 1757147317845,
     "user": {
      "displayName": "Sharon Lam",
      "userId": "16351729373087846634"
     },
     "user_tz": -480
    },
    "id": "8e-98xuUq8P-"
   },
   "outputs": [],
   "source": [
    "def get_xyz(molecule, optimize=False):\n",
    "    \"\"\"Get xyz-coordinates for the molecule\"\"\"\n",
    "    mol = Chem.Mol(molecule)\n",
    "    mol = AllChem.AddHs(mol, addCoords=True)\n",
    "    AllChem.EmbedMolecule(mol)\n",
    "    if optimize:\n",
    "        AllChem.MMFFOptimizeMolecule(mol)\n",
    "    xyz = []\n",
    "    for lines in Chem.MolToXYZBlock(mol).split(\"\\n\")[2:]:\n",
    "        strip = lines.strip()\n",
    "        if strip:\n",
    "            xyz.append(strip)\n",
    "    xyz = \"\\n\".join(xyz)\n",
    "    return mol, xyz"
   ]
  },
  {
   "cell_type": "code",
   "execution_count": null,
   "metadata": {
    "executionInfo": {
     "elapsed": 3,
     "status": "ok",
     "timestamp": 1757147318360,
     "user": {
      "displayName": "Sharon Lam",
      "userId": "16351729373087846634"
     },
     "user_tz": -480
    },
    "id": "LW5Tq5xevkI1"
   },
   "outputs": [],
   "source": [
    "molecule3d, xyz = get_xyz(molecule)"
   ]
  },
  {
   "cell_type": "code",
   "execution_count": null,
   "metadata": {
    "executionInfo": {
     "elapsed": 18,
     "status": "ok",
     "timestamp": 1757147318821,
     "user": {
      "displayName": "Sharon Lam",
      "userId": "16351729373087846634"
     },
     "user_tz": -480
    },
    "id": "hDQ7eyEHrBk2"
   },
   "outputs": [],
   "source": [
    "def run_calculation(xyz, basis):\n",
    "    \"\"\"Calculate the energy (+ additional things like MO coefficients) with pyscf.\"\"\"\n",
    "    mol = gto.M(\n",
    "        atom=xyz,\n",
    "        basis=basis,\n",
    "        unit=\"ANG\",\n",
    "        symmetry=True,\n",
    "    )\n",
    "    mol.build()\n",
    "    mf = scf.RHF(mol).run()\n",
    "    return mf, mol"
   ]
  },
  {
   "cell_type": "code",
   "execution_count": null,
   "metadata": {
    "colab": {
     "base_uri": "https://localhost:8080/"
    },
    "executionInfo": {
     "elapsed": 479,
     "status": "ok",
     "timestamp": 1757147321390,
     "user": {
      "displayName": "Sharon Lam",
      "userId": "16351729373087846634"
     },
     "user_tz": -480
    },
    "id": "PuzmGJ3fne5k",
    "outputId": "e0022cd2-6e74-4601-b597-392fd723c243"
   },
   "outputs": [],
   "source": [
    "mf, mol = run_calculation(xyz, \"sto-3g\")"
   ]
  },
  {
   "cell_type": "code",
   "execution_count": null,
   "metadata": {
    "colab": {
     "base_uri": "https://localhost:8080/",
     "height": 1000
    },
    "executionInfo": {
     "elapsed": 5,
     "status": "ok",
     "timestamp": 1757147323095,
     "user": {
      "displayName": "Sharon Lam",
      "userId": "16351729373087846634"
     },
     "user_tz": -480
    },
    "id": "mlRIdF8yrIyv",
    "outputId": "569f1d81-4da3-421c-f121-b7a741b606d9"
   },
   "outputs": [],
   "source": [
    "table = pd.DataFrame({\"Energy\": mf.mo_energy, \"Occupancy\": mf.mo_occ})\n",
    "table"
   ]
  },
  {
   "cell_type": "code",
   "execution_count": null,
   "metadata": {
    "executionInfo": {
     "elapsed": 10,
     "status": "ok",
     "timestamp": 1757147325690,
     "user": {
      "displayName": "Sharon Lam",
      "userId": "16351729373087846634"
     },
     "user_tz": -480
    },
    "id": "-HwnDB_urKYO"
   },
   "outputs": [],
   "source": [
    "def get_mo(mf, mol):\n",
    "    \"\"\"Get molecular orbitals\"\"\"\n",
    "    orbitals = {\"canonical\": mf.mo_coeff}\n",
    "    return orbitals"
   ]
  },
  {
   "cell_type": "code",
   "execution_count": null,
   "metadata": {
    "executionInfo": {
     "elapsed": 2,
     "status": "ok",
     "timestamp": 1757147326406,
     "user": {
      "displayName": "Sharon Lam",
      "userId": "16351729373087846634"
     },
     "user_tz": -480
    },
    "id": "l7LT40vXrNKP"
   },
   "outputs": [],
   "source": [
    "orbitals = get_mo(mf, mol)"
   ]
  },
  {
   "cell_type": "code",
   "execution_count": null,
   "metadata": {
    "executionInfo": {
     "elapsed": 14,
     "status": "ok",
     "timestamp": 1757147327023,
     "user": {
      "displayName": "Sharon Lam",
      "userId": "16351729373087846634"
     },
     "user_tz": -480
    },
    "id": "bNPzNbuxrPKY"
   },
   "outputs": [],
   "source": [
    "def write_all_coeffs(\n",
    "    mol, coeffs, prefix=\"cmo\", dirname=\".\", margin=5, offset=0\n",
    "):\n",
    "    \"\"\"Write cube files for the given coefficients.\"\"\"\n",
    "    path = pathlib.Path(dirname)\n",
    "    path.mkdir(parents=True, exist_ok=True)\n",
    "\n",
    "    for i in range(coeffs.shape[1]):\n",
    "        outfile = f\"{prefix}_{i+offset:02d}.cube\"\n",
    "        outfile = path / outfile\n",
    "        print(f\"Writing {outfile}\")\n",
    "        tools.cubegen.orbital(mol, outfile, coeffs[:, i], margin=margin)"
   ]
  },
  {
   "cell_type": "code",
   "execution_count": null,
   "metadata": {
    "colab": {
     "base_uri": "https://localhost:8080/"
    },
    "executionInfo": {
     "elapsed": 10,
     "status": "ok",
     "timestamp": 1757147327642,
     "user": {
      "displayName": "Sharon Lam",
      "userId": "16351729373087846634"
     },
     "user_tz": -480
    },
    "id": "I-ilEA2IrQjQ",
    "outputId": "43985012-d5e8-4d5d-b5f9-845069e39da5"
   },
   "outputs": [],
   "source": [
    "def find_homo_lumo(mf):\n",
    "    lumo = float(\"inf\")\n",
    "    lumo_idx = None\n",
    "    homo = -float(\"inf\")\n",
    "    homo_idx = None\n",
    "    for i, (energy, occ) in enumerate(zip(mf.mo_energy, mf.mo_occ)):\n",
    "        if occ > 0 and energy > homo:\n",
    "            homo = energy\n",
    "            homo_idx = i\n",
    "        if occ == 0 and energy < lumo:\n",
    "            lumo = energy\n",
    "            lumo_idx = i\n",
    "\n",
    "    return homo, homo_idx, lumo, lumo_idx\n",
    "\n",
    "\n",
    "_, homo_idx, _, lumo_idx = find_homo_lumo(mf)\n",
    "print(f\"HOMO (index): {homo_idx}\")\n",
    "print(f\"LUMO (index): {lumo_idx}\")"
   ]
  },
  {
   "cell_type": "code",
   "execution_count": null,
   "metadata": {
    "colab": {
     "base_uri": "https://localhost:8080/"
    },
    "executionInfo": {
     "elapsed": 2488,
     "status": "ok",
     "timestamp": 1757147330916,
     "user": {
      "displayName": "Sharon Lam",
      "userId": "16351729373087846634"
     },
     "user_tz": -480
    },
    "id": "kYtSTWEUrSDQ",
    "outputId": "bf795157-fc90-41fc-edce-14eabe667852"
   },
   "outputs": [],
   "source": [
    "tools.cubegen.orbital(\n",
    "    mol, \"cmo_lumo.cube\", orbitals[\"canonical\"][:, lumo_idx], margin=5\n",
    ")"
   ]
  },
  {
   "cell_type": "code",
   "execution_count": null,
   "metadata": {
    "colab": {
     "base_uri": "https://localhost:8080/",
     "height": 167,
     "referenced_widgets": [
      "cf307b2fc3fb484995287ce1ca2a7f31",
      "10f133b9ca8d4816b4890bfca9e96600",
      "49ac815d0fdc499ba09736dc0cc4a3b0",
      "6e8668d03e374418842792b244c4a3ed",
      "20031c37e88541dc85363c795fbe3173",
      "d66aa3c2c59b455abee6fd3323322ca1",
      "7da6eeb28c5f48f6bcdf710d32c8cfa6",
      "500586c11fdf4074b3601d0958a77086",
      "e8ad7e2547d248a485a9c3bd693ab323",
      "e7844720930c4368861cb5f4e8c05160",
      "8290cc596fb74793bb1eccaae6f69aaa",
      "5796e55ddd7a45a49a3363f373fdb196",
      "055a93458c8448718349636c8c57d347",
      "03482ef8b79f495381f0a673505edbb7",
      "c721c2b4b48847beb45f3a58560a7001",
      "140dc10279ed4ebcb4ae11e87f178375",
      "729ed1fe741a419ba5d41f38455ec067",
      "1c9d6ff44aa048f0881c67e63dfb282c",
      "1ba3bb4ba9864c7a8cdcc8f0990ec07f"
     ]
    },
    "executionInfo": {
     "elapsed": 1722,
     "status": "ok",
     "timestamp": 1757147335461,
     "user": {
      "displayName": "Sharon Lam",
      "userId": "16351729373087846634"
     },
     "user_tz": -480
    },
    "id": "W3Gq2-21rTlz",
    "outputId": "31d2b54c-5397-4217-c94c-3880338e02bc"
   },
   "outputs": [],
   "source": [
    "fortecubeview.plot(path=\".\", sumlevel=0.85)"
   ]
  },
  {
   "cell_type": "code",
   "execution_count": null,
   "metadata": {
    "executionInfo": {
     "elapsed": 2,
     "status": "ok",
     "timestamp": 1757147335465,
     "user": {
      "displayName": "Sharon Lam",
      "userId": "16351729373087846634"
     },
     "user_tz": -480
    },
    "id": "O2OReVXMrVw8"
   },
   "outputs": [],
   "source": [
    "data = None\n",
    "with open(\"cmo_lumo.cube\", \"r\") as infile:\n",
    "    data = infile.read()"
   ]
  },
  {
   "cell_type": "code",
   "execution_count": null,
   "metadata": {
    "colab": {
     "base_uri": "https://localhost:8080/",
     "height": 497,
     "output_embedded_package_id": "10Fy_0UMhUVmucuGAIAwUF_exOeoiXHET"
    },
    "executionInfo": {
     "elapsed": 7869,
     "status": "ok",
     "timestamp": 1757147344472,
     "user": {
      "displayName": "Sharon Lam",
      "userId": "16351729373087846634"
     },
     "user_tz": -480
    },
    "id": "dC3Nsc0fra4n",
    "outputId": "b66ef36b-f4b0-4865-8cb0-f9dc142a9088"
   },
   "outputs": [],
   "source": [
    "view = py3Dmol.view()\n",
    "\n",
    "# Style the atoms and bonds\n",
    "view.setStyle({\"stick\": {}})\n",
    "\n",
    "view.addVolumetricData(\n",
    "    data,\n",
    "    \"cube\",\n",
    "    {\n",
    "        \"isoval\": 0.05,\n",
    "        \"smoothness\": 5,\n",
    "        \"opacity\": 0.8,\n",
    "        \"volformat\": \"cube\",\n",
    "        \"color\": \"blue\",\n",
    "    },\n",
    ")\n",
    "view.addVolumetricData(\n",
    "    data,\n",
    "    \"cube\",\n",
    "    {\n",
    "        \"isoval\": -0.05,\n",
    "        \"smoothness\": 5,\n",
    "        \"opacity\": 0.8,\n",
    "        \"volformat\": \"cube\",\n",
    "        \"color\": \"orange\",\n",
    "    },\n",
    ")\n",
    "view.addModel(data, \"cube\")\n",
    "view.setStyle({\"stick\": {}})\n",
    "view.zoomTo()\n",
    "view.show()"
   ]
  },
  {
   "cell_type": "code",
   "execution_count": null,
   "metadata": {
    "id": "JtBZ43SWw8aK"
   },
   "outputs": [],
   "source": []
  }
 ],
 "metadata": {
  "colab": {
   "authorship_tag": "ABX9TyOv5nn3qdWszW37dqW7s8RF",
   "provenance": []
  },
  "kernelspec": {
   "display_name": "Python 3 (ipykernel)",
   "language": "python",
   "name": "python3"
  },
  "language_info": {
   "codemirror_mode": {
    "name": "ipython",
    "version": 3
   },
   "file_extension": ".py",
   "mimetype": "text/x-python",
   "name": "python",
   "nbconvert_exporter": "python",
   "pygments_lexer": "ipython3",
   "version": "3.12.11"
  },
  "widgets": {
   "application/vnd.jupyter.widget-state+json": {
    "03482ef8b79f495381f0a673505edbb7": {
     "model_module": "@jupyter-widgets/controls",
     "model_module_version": "1.5.0",
     "model_name": "SelectModel",
     "state": {
      "_dom_classes": [],
      "_model_module": "@jupyter-widgets/controls",
      "_model_module_version": "1.5.0",
      "_model_name": "SelectModel",
      "_options_labels": [
       "./cmo_lumo.cube"
      ],
      "_view_count": null,
      "_view_module": "@jupyter-widgets/controls",
      "_view_module_version": "1.5.0",
      "_view_name": "SelectView",
      "description": "Cube files:",
      "description_tooltip": null,
      "disabled": false,
      "index": 0,
      "layout": "IPY_MODEL_729ed1fe741a419ba5d41f38455ec067",
      "rows": 5,
      "style": "IPY_MODEL_1c9d6ff44aa048f0881c67e63dfb282c"
     }
    },
    "055a93458c8448718349636c8c57d347": {
     "model_module": "@jupyter-widgets/controls",
     "model_module_version": "1.5.0",
     "model_name": "VBoxModel",
     "state": {
      "_dom_classes": [
       "widget-interact"
      ],
      "_model_module": "@jupyter-widgets/controls",
      "_model_module_version": "1.5.0",
      "_model_name": "VBoxModel",
      "_view_count": null,
      "_view_module": "@jupyter-widgets/controls",
      "_view_module_version": "1.5.0",
      "_view_name": "VBoxView",
      "box_style": "",
      "children": [
       "IPY_MODEL_03482ef8b79f495381f0a673505edbb7",
       "IPY_MODEL_c721c2b4b48847beb45f3a58560a7001"
      ],
      "layout": "IPY_MODEL_140dc10279ed4ebcb4ae11e87f178375"
     }
    },
    "10f133b9ca8d4816b4890bfca9e96600": {
     "model_module": "@jupyter-widgets/controls",
     "model_module_version": "1.5.0",
     "model_name": "HTMLModel",
     "state": {
      "_dom_classes": [],
      "_model_module": "@jupyter-widgets/controls",
      "_model_module_version": "1.5.0",
      "_model_name": "HTMLModel",
      "_view_count": null,
      "_view_module": "@jupyter-widgets/controls",
      "_view_module_version": "1.5.0",
      "_view_name": "HTMLView",
      "description": "",
      "description_tooltip": null,
      "layout": "IPY_MODEL_d66aa3c2c59b455abee6fd3323322ca1",
      "placeholder": "​",
      "style": "IPY_MODEL_7da6eeb28c5f48f6bcdf710d32c8cfa6",
      "value": "<div align=\"center\" style=\"font-size:16px;font-family:Helvetica;font-weight: bold;\">./cmo_lumo.cube</div>"
     }
    },
    "140dc10279ed4ebcb4ae11e87f178375": {
     "model_module": "@jupyter-widgets/base",
     "model_module_version": "1.2.0",
     "model_name": "LayoutModel",
     "state": {
      "_model_module": "@jupyter-widgets/base",
      "_model_module_version": "1.2.0",
      "_model_name": "LayoutModel",
      "_view_count": null,
      "_view_module": "@jupyter-widgets/base",
      "_view_module_version": "1.2.0",
      "_view_name": "LayoutView",
      "align_content": null,
      "align_items": null,
      "align_self": null,
      "border": null,
      "bottom": null,
      "display": null,
      "flex": null,
      "flex_flow": null,
      "grid_area": null,
      "grid_auto_columns": null,
      "grid_auto_flow": null,
      "grid_auto_rows": null,
      "grid_column": null,
      "grid_gap": null,
      "grid_row": null,
      "grid_template_areas": null,
      "grid_template_columns": null,
      "grid_template_rows": null,
      "height": null,
      "justify_content": null,
      "justify_items": null,
      "left": null,
      "margin": null,
      "max_height": null,
      "max_width": null,
      "min_height": null,
      "min_width": null,
      "object_fit": null,
      "object_position": null,
      "order": null,
      "overflow": null,
      "overflow_x": null,
      "overflow_y": null,
      "padding": null,
      "right": null,
      "top": null,
      "visibility": null,
      "width": null
     }
    },
    "1ba3bb4ba9864c7a8cdcc8f0990ec07f": {
     "model_module": "@jupyter-widgets/base",
     "model_module_version": "1.2.0",
     "model_name": "LayoutModel",
     "state": {
      "_model_module": "@jupyter-widgets/base",
      "_model_module_version": "1.2.0",
      "_model_name": "LayoutModel",
      "_view_count": null,
      "_view_module": "@jupyter-widgets/base",
      "_view_module_version": "1.2.0",
      "_view_name": "LayoutView",
      "align_content": null,
      "align_items": null,
      "align_self": null,
      "border": null,
      "bottom": null,
      "display": null,
      "flex": null,
      "flex_flow": null,
      "grid_area": null,
      "grid_auto_columns": null,
      "grid_auto_flow": null,
      "grid_auto_rows": null,
      "grid_column": null,
      "grid_gap": null,
      "grid_row": null,
      "grid_template_areas": null,
      "grid_template_columns": null,
      "grid_template_rows": null,
      "height": null,
      "justify_content": null,
      "justify_items": null,
      "left": null,
      "margin": null,
      "max_height": null,
      "max_width": null,
      "min_height": null,
      "min_width": null,
      "object_fit": null,
      "object_position": null,
      "order": null,
      "overflow": null,
      "overflow_x": null,
      "overflow_y": null,
      "padding": null,
      "right": null,
      "top": null,
      "visibility": null,
      "width": null
     }
    },
    "1c9d6ff44aa048f0881c67e63dfb282c": {
     "model_module": "@jupyter-widgets/controls",
     "model_module_version": "1.5.0",
     "model_name": "DescriptionStyleModel",
     "state": {
      "_model_module": "@jupyter-widgets/controls",
      "_model_module_version": "1.5.0",
      "_model_name": "DescriptionStyleModel",
      "_view_count": null,
      "_view_module": "@jupyter-widgets/base",
      "_view_module_version": "1.2.0",
      "_view_name": "StyleView",
      "description_width": ""
     }
    },
    "20031c37e88541dc85363c795fbe3173": {
     "model_module": "@jupyter-widgets/base",
     "model_module_version": "1.2.0",
     "model_name": "LayoutModel",
     "state": {
      "_model_module": "@jupyter-widgets/base",
      "_model_module_version": "1.2.0",
      "_model_name": "LayoutModel",
      "_view_count": null,
      "_view_module": "@jupyter-widgets/base",
      "_view_module_version": "1.2.0",
      "_view_name": "LayoutView",
      "align_content": null,
      "align_items": null,
      "align_self": null,
      "border": "0px solid black",
      "bottom": null,
      "display": null,
      "flex": null,
      "flex_flow": null,
      "grid_area": null,
      "grid_auto_columns": null,
      "grid_auto_flow": null,
      "grid_auto_rows": null,
      "grid_column": null,
      "grid_gap": null,
      "grid_row": null,
      "grid_template_areas": null,
      "grid_template_columns": null,
      "grid_template_rows": null,
      "height": "500px",
      "justify_content": null,
      "justify_items": null,
      "left": null,
      "margin": null,
      "max_height": null,
      "max_width": null,
      "min_height": null,
      "min_width": null,
      "object_fit": null,
      "object_position": null,
      "order": null,
      "overflow": null,
      "overflow_x": null,
      "overflow_y": null,
      "padding": null,
      "right": null,
      "top": null,
      "visibility": null,
      "width": "450px"
     }
    },
    "49ac815d0fdc499ba09736dc0cc4a3b0": {
     "model_module": "jupyter-threejs",
     "model_module_version": "^2.4.1",
     "model_name": "RendererModel",
     "state": {
      "_alpha": false,
      "_antialias": false,
      "_dom_classes": [],
      "_height": 400,
      "_model_module": "jupyter-threejs",
      "_model_module_version": "^2.4.1",
      "_model_name": "RendererModel",
      "_pause_autorender": false,
      "_view_count": null,
      "_view_module": "jupyter-threejs",
      "_view_module_version": "^2.4.1",
      "_view_name": "RendererView",
      "_webgl_version": 2,
      "_width": 400,
      "autoClear": true,
      "autoClearColor": true,
      "autoClearDepth": true,
      "autoClearStencil": true,
      "background": "black",
      "background_opacity": 1,
      "camera": "IPY_MODEL_eb16c92f1ee14b0288a28317bbf84523",
      "clearColor": "#000000",
      "clearOpacity": 1,
      "clippingPlanes": [],
      "controls": [
       "IPY_MODEL_6535c4872d544b07b2456a340b4f6283"
      ],
      "gammaFactor": 2,
      "gammaInput": false,
      "gammaOutput": false,
      "layout": "IPY_MODEL_ed46e430fe684ba3a696b9f4f615a80a",
      "localClippingEnabled": false,
      "maxMorphNormals": 4,
      "maxMorphTargets": 8,
      "physicallyCorrectLights": false,
      "scene": "IPY_MODEL_8975dcb21aad4a40bd9e46115801df43",
      "shadowMap": "IPY_MODEL_9bfb3106e6cf47559e7a8b0b8dabd09f",
      "sortObject": true,
      "toneMapping": "LinearToneMapping",
      "toneMappingExposure": 1,
      "toneMappingWhitePoint": 1
     }
    },
    "500586c11fdf4074b3601d0958a77086": {
     "model_module": "@jupyter-widgets/controls",
     "model_module_version": "1.5.0",
     "model_name": "HTMLModel",
     "state": {
      "_dom_classes": [],
      "_model_module": "@jupyter-widgets/controls",
      "_model_module_version": "1.5.0",
      "_model_name": "HTMLModel",
      "_view_count": null,
      "_view_module": "@jupyter-widgets/controls",
      "_view_module_version": "1.5.0",
      "_view_name": "HTMLView",
      "description": "",
      "description_tooltip": null,
      "layout": "IPY_MODEL_8290cc596fb74793bb1eccaae6f69aaa",
      "placeholder": "​",
      "style": "IPY_MODEL_5796e55ddd7a45a49a3363f373fdb196",
      "value": "\n        <style>\n           .jupyter-widgets-output-area .output_scroll {\n                height: unset !important;\n                border-radius: unset !important;\n                -webkit-box-shadow: unset !important;\n              box-shadow: unset !important;\n            }\n            .jupyter-widgets-output-area  {\n            height: auto !important;\n         }\n        </style>\n        "
     }
    },
    "5796e55ddd7a45a49a3363f373fdb196": {
     "model_module": "@jupyter-widgets/controls",
     "model_module_version": "1.5.0",
     "model_name": "DescriptionStyleModel",
     "state": {
      "_model_module": "@jupyter-widgets/controls",
      "_model_module_version": "1.5.0",
      "_model_name": "DescriptionStyleModel",
      "_view_count": null,
      "_view_module": "@jupyter-widgets/base",
      "_view_module_version": "1.2.0",
      "_view_name": "StyleView",
      "description_width": ""
     }
    },
    "6e8668d03e374418842792b244c4a3ed": {
     "model_module": "@jupyter-widgets/controls",
     "model_module_version": "1.5.0",
     "model_name": "HTMLModel",
     "state": {
      "_dom_classes": [],
      "_model_module": "@jupyter-widgets/controls",
      "_model_module_version": "1.5.0",
      "_model_name": "HTMLModel",
      "_view_count": null,
      "_view_module": "@jupyter-widgets/controls",
      "_view_module_version": "1.5.0",
      "_view_name": "HTMLView",
      "description": "",
      "description_tooltip": null,
      "layout": "IPY_MODEL_e8ad7e2547d248a485a9c3bd693ab323",
      "placeholder": "​",
      "style": "IPY_MODEL_e7844720930c4368861cb5f4e8c05160",
      "value": "<div align=\"center\">(./cmo_lumo.cube)</div>"
     }
    },
    "729ed1fe741a419ba5d41f38455ec067": {
     "model_module": "@jupyter-widgets/base",
     "model_module_version": "1.2.0",
     "model_name": "LayoutModel",
     "state": {
      "_model_module": "@jupyter-widgets/base",
      "_model_module_version": "1.2.0",
      "_model_name": "LayoutModel",
      "_view_count": null,
      "_view_module": "@jupyter-widgets/base",
      "_view_module_version": "1.2.0",
      "_view_name": "LayoutView",
      "align_content": null,
      "align_items": null,
      "align_self": null,
      "border": null,
      "bottom": null,
      "display": null,
      "flex": null,
      "flex_flow": null,
      "grid_area": null,
      "grid_auto_columns": null,
      "grid_auto_flow": null,
      "grid_auto_rows": null,
      "grid_column": null,
      "grid_gap": null,
      "grid_row": null,
      "grid_template_areas": null,
      "grid_template_columns": null,
      "grid_template_rows": null,
      "height": null,
      "justify_content": null,
      "justify_items": null,
      "left": null,
      "margin": null,
      "max_height": null,
      "max_width": null,
      "min_height": null,
      "min_width": null,
      "object_fit": null,
      "object_position": null,
      "order": null,
      "overflow": null,
      "overflow_x": null,
      "overflow_y": null,
      "padding": null,
      "right": null,
      "top": null,
      "visibility": null,
      "width": null
     }
    },
    "7da6eeb28c5f48f6bcdf710d32c8cfa6": {
     "model_module": "@jupyter-widgets/controls",
     "model_module_version": "1.5.0",
     "model_name": "DescriptionStyleModel",
     "state": {
      "_model_module": "@jupyter-widgets/controls",
      "_model_module_version": "1.5.0",
      "_model_name": "DescriptionStyleModel",
      "_view_count": null,
      "_view_module": "@jupyter-widgets/base",
      "_view_module_version": "1.2.0",
      "_view_name": "StyleView",
      "description_width": ""
     }
    },
    "8290cc596fb74793bb1eccaae6f69aaa": {
     "model_module": "@jupyter-widgets/base",
     "model_module_version": "1.2.0",
     "model_name": "LayoutModel",
     "state": {
      "_model_module": "@jupyter-widgets/base",
      "_model_module_version": "1.2.0",
      "_model_name": "LayoutModel",
      "_view_count": null,
      "_view_module": "@jupyter-widgets/base",
      "_view_module_version": "1.2.0",
      "_view_name": "LayoutView",
      "align_content": null,
      "align_items": null,
      "align_self": null,
      "border": null,
      "bottom": null,
      "display": null,
      "flex": null,
      "flex_flow": null,
      "grid_area": null,
      "grid_auto_columns": null,
      "grid_auto_flow": null,
      "grid_auto_rows": null,
      "grid_column": null,
      "grid_gap": null,
      "grid_row": null,
      "grid_template_areas": null,
      "grid_template_columns": null,
      "grid_template_rows": null,
      "height": null,
      "justify_content": null,
      "justify_items": null,
      "left": null,
      "margin": null,
      "max_height": null,
      "max_width": null,
      "min_height": null,
      "min_width": null,
      "object_fit": null,
      "object_position": null,
      "order": null,
      "overflow": null,
      "overflow_x": null,
      "overflow_y": null,
      "padding": null,
      "right": null,
      "top": null,
      "visibility": null,
      "width": null
     }
    },
    "c721c2b4b48847beb45f3a58560a7001": {
     "model_module": "@jupyter-widgets/output",
     "model_module_version": "1.0.0",
     "model_name": "OutputModel",
     "state": {
      "_dom_classes": [],
      "_model_module": "@jupyter-widgets/output",
      "_model_module_version": "1.0.0",
      "_model_name": "OutputModel",
      "_view_count": null,
      "_view_module": "@jupyter-widgets/output",
      "_view_module_version": "1.0.0",
      "_view_name": "OutputView",
      "layout": "IPY_MODEL_1ba3bb4ba9864c7a8cdcc8f0990ec07f",
      "msg_id": "",
      "outputs": []
     }
    },
    "cf307b2fc3fb484995287ce1ca2a7f31": {
     "model_module": "@jupyter-widgets/controls",
     "model_module_version": "1.5.0",
     "model_name": "VBoxModel",
     "state": {
      "_dom_classes": [],
      "_model_module": "@jupyter-widgets/controls",
      "_model_module_version": "1.5.0",
      "_model_name": "VBoxModel",
      "_view_count": null,
      "_view_module": "@jupyter-widgets/controls",
      "_view_module_version": "1.5.0",
      "_view_name": "VBoxView",
      "box_style": "",
      "children": [
       "IPY_MODEL_10f133b9ca8d4816b4890bfca9e96600",
       "IPY_MODEL_49ac815d0fdc499ba09736dc0cc4a3b0",
       "IPY_MODEL_6e8668d03e374418842792b244c4a3ed"
      ],
      "layout": "IPY_MODEL_20031c37e88541dc85363c795fbe3173"
     }
    },
    "d66aa3c2c59b455abee6fd3323322ca1": {
     "model_module": "@jupyter-widgets/base",
     "model_module_version": "1.2.0",
     "model_name": "LayoutModel",
     "state": {
      "_model_module": "@jupyter-widgets/base",
      "_model_module_version": "1.2.0",
      "_model_name": "LayoutModel",
      "_view_count": null,
      "_view_module": "@jupyter-widgets/base",
      "_view_module_version": "1.2.0",
      "_view_name": "LayoutView",
      "align_content": null,
      "align_items": null,
      "align_self": null,
      "border": null,
      "bottom": null,
      "display": null,
      "flex": null,
      "flex_flow": null,
      "grid_area": null,
      "grid_auto_columns": null,
      "grid_auto_flow": null,
      "grid_auto_rows": null,
      "grid_column": null,
      "grid_gap": null,
      "grid_row": null,
      "grid_template_areas": null,
      "grid_template_columns": null,
      "grid_template_rows": null,
      "height": null,
      "justify_content": null,
      "justify_items": null,
      "left": null,
      "margin": null,
      "max_height": null,
      "max_width": null,
      "min_height": null,
      "min_width": null,
      "object_fit": null,
      "object_position": null,
      "order": null,
      "overflow": null,
      "overflow_x": null,
      "overflow_y": null,
      "padding": null,
      "right": null,
      "top": null,
      "visibility": null,
      "width": null
     }
    },
    "e7844720930c4368861cb5f4e8c05160": {
     "model_module": "@jupyter-widgets/controls",
     "model_module_version": "1.5.0",
     "model_name": "DescriptionStyleModel",
     "state": {
      "_model_module": "@jupyter-widgets/controls",
      "_model_module_version": "1.5.0",
      "_model_name": "DescriptionStyleModel",
      "_view_count": null,
      "_view_module": "@jupyter-widgets/base",
      "_view_module_version": "1.2.0",
      "_view_name": "StyleView",
      "description_width": ""
     }
    },
    "e8ad7e2547d248a485a9c3bd693ab323": {
     "model_module": "@jupyter-widgets/base",
     "model_module_version": "1.2.0",
     "model_name": "LayoutModel",
     "state": {
      "_model_module": "@jupyter-widgets/base",
      "_model_module_version": "1.2.0",
      "_model_name": "LayoutModel",
      "_view_count": null,
      "_view_module": "@jupyter-widgets/base",
      "_view_module_version": "1.2.0",
      "_view_name": "LayoutView",
      "align_content": null,
      "align_items": null,
      "align_self": null,
      "border": null,
      "bottom": null,
      "display": null,
      "flex": null,
      "flex_flow": null,
      "grid_area": null,
      "grid_auto_columns": null,
      "grid_auto_flow": null,
      "grid_auto_rows": null,
      "grid_column": null,
      "grid_gap": null,
      "grid_row": null,
      "grid_template_areas": null,
      "grid_template_columns": null,
      "grid_template_rows": null,
      "height": null,
      "justify_content": null,
      "justify_items": null,
      "left": null,
      "margin": null,
      "max_height": null,
      "max_width": null,
      "min_height": null,
      "min_width": null,
      "object_fit": null,
      "object_position": null,
      "order": null,
      "overflow": null,
      "overflow_x": null,
      "overflow_y": null,
      "padding": null,
      "right": null,
      "top": null,
      "visibility": null,
      "width": null
     }
    }
   }
  }
 },
 "nbformat": 4,
 "nbformat_minor": 4
}
