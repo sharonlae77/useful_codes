{
 "cells": [
  {
   "cell_type": "markdown",
   "metadata": {
    "id": "s_vwIgZI3qik"
   },
   "source": [
    "# Descriptors"
   ]
  },
  {
   "cell_type": "code",
   "execution_count": null,
   "metadata": {
    "colab": {
     "base_uri": "https://localhost:8080/"
    },
    "executionInfo": {
     "elapsed": 5697,
     "status": "ok",
     "timestamp": 1757076138351,
     "user": {
      "displayName": "Sharon Lam",
      "userId": "16351729373087846634"
     },
     "user_tz": -480
    },
    "id": "2Bpw1EL53zxX",
    "outputId": "751b26c0-0e18-410a-bb86-4300a3ce92ac"
   },
   "outputs": [],
   "source": [
    "!pip install rdkit\n",
    "!pip install pandas"
   ]
  },
  {
   "cell_type": "code",
   "execution_count": null,
   "metadata": {
    "id": "WqXzyLMW6mKJ"
   },
   "outputs": [],
   "source": [
    "from rdkit.Chem import Descriptors\n",
    "import pandas as pd\n",
    "from rdkit.Chem import MolFromSmiles, Draw\n",
    "from rdkit.Chem.Descriptors import CalcMolDescriptors\n",
    "from rdkit.Chem.Draw import MolsToGridImage\n",
    "from plotly.subplots import make_subplots\n",
    "import plotly.graph_objects as go"
   ]
  },
  {
   "cell_type": "markdown",
   "metadata": {
    "id": "wVCpazqW7MsM"
   },
   "source": [
    "## RDKit descriptors"
   ]
  },
  {
   "cell_type": "code",
   "execution_count": null,
   "metadata": {
    "colab": {
     "base_uri": "https://localhost:8080/"
    },
    "executionInfo": {
     "elapsed": 12,
     "status": "ok",
     "timestamp": 1757076185939,
     "user": {
      "displayName": "Sharon Lam",
      "userId": "16351729373087846634"
     },
     "user_tz": -480
    },
    "id": "BOMoP6c45tr4",
    "outputId": "270529de-6f4a-4d6f-b2b8-e8b342771093"
   },
   "outputs": [],
   "source": [
    "all_desc = [desc_name[0] for desc_name in Descriptors._descList]\n",
    "print(all_desc)"
   ]
  },
  {
   "cell_type": "code",
   "execution_count": null,
   "metadata": {
    "executionInfo": {
     "elapsed": 19,
     "status": "ok",
     "timestamp": 1757076145576,
     "user": {
      "displayName": "Sharon Lam",
      "userId": "16351729373087846634"
     },
     "user_tz": -480
    },
    "id": "MzVuD7Rb3yMC"
   },
   "outputs": [],
   "source": [
    "data_smiles = pd.read_csv('data_smiles.csv')"
   ]
  },
  {
   "cell_type": "code",
   "execution_count": null,
   "metadata": {
    "colab": {
     "base_uri": "https://localhost:8080/",
     "height": 206
    },
    "executionInfo": {
     "elapsed": 32,
     "status": "ok",
     "timestamp": 1757076607976,
     "user": {
      "displayName": "Sharon Lam",
      "userId": "16351729373087846634"
     },
     "user_tz": -480
    },
    "id": "p86qSYf77UlE",
    "outputId": "304a3f97-998a-46d7-f19a-5e05156cc5f5"
   },
   "outputs": [],
   "source": [
    "data_smiles"
   ]
  },
  {
   "cell_type": "code",
   "execution_count": null,
   "metadata": {
    "executionInfo": {
     "elapsed": 99,
     "status": "ok",
     "timestamp": 1757076158847,
     "user": {
      "displayName": "Sharon Lam",
      "userId": "16351729373087846634"
     },
     "user_tz": -480
    },
    "id": "wSEKiOKt5m4_"
   },
   "outputs": [],
   "source": [
    "mol = [MolFromSmiles(i) for i in data_smiles['smiles']]\n",
    "descriptors = [CalcMolDescriptors(i) for i in mol]\n",
    "df_descriptors = pd.DataFrame(descriptors)\n",
    "data_descriptors = pd.concat([data_smiles, df_descriptors],axis=1)"
   ]
  },
  {
   "cell_type": "code",
   "execution_count": null,
   "metadata": {
    "colab": {
     "base_uri": "https://localhost:8080/",
     "height": 342
    },
    "executionInfo": {
     "elapsed": 13,
     "status": "ok",
     "timestamp": 1757076161359,
     "user": {
      "displayName": "Sharon Lam",
      "userId": "16351729373087846634"
     },
     "user_tz": -480
    },
    "id": "B2h7jCDB4CbJ",
    "outputId": "55a8d790-90d2-466e-879f-1533b8cf96fe"
   },
   "outputs": [],
   "source": [
    "data_descriptors"
   ]
  },
  {
   "cell_type": "code",
   "execution_count": null,
   "metadata": {
    "executionInfo": {
     "elapsed": 12,
     "status": "ok",
     "timestamp": 1757076168076,
     "user": {
      "displayName": "Sharon Lam",
      "userId": "16351729373087846634"
     },
     "user_tz": -480
    },
    "id": "hPnikbfY4PbT"
   },
   "outputs": [],
   "source": [
    "data_descriptors.to_csv('data_descriptors.csv',index=False)"
   ]
  },
  {
   "cell_type": "markdown",
   "metadata": {
    "id": "YVXRg7eF7Fsv"
   },
   "source": [
    "## Visualizing molecules"
   ]
  },
  {
   "cell_type": "code",
   "execution_count": null,
   "metadata": {
    "colab": {
     "base_uri": "https://localhost:8080/",
     "height": 409
    },
    "executionInfo": {
     "elapsed": 190,
     "status": "ok",
     "timestamp": 1757076210467,
     "user": {
      "displayName": "Sharon Lam",
      "userId": "16351729373087846634"
     },
     "user_tz": -480
    },
    "id": "B0HKh6Wa5pyJ",
    "outputId": "2bfb0f9d-39c3-4151-a9db-2969ca527349"
   },
   "outputs": [],
   "source": [
    "legends = []\n",
    "for i in range(len(data_descriptors)):\n",
    "    name = data_descriptors['name'].iloc[i]\n",
    "    molwt = data_descriptors['MolWt'].iloc[i]\n",
    "    legend = f'{name} | MW = {round(molwt,2)}'\n",
    "    legends.append(legend)\n",
    "\n",
    "opts = Draw.MolDrawOptions()\n",
    "img = MolsToGridImage(mol,\n",
    "                      subImgSize=(600, 300),\n",
    "                      legends=legends,\n",
    "                      returnPNG=True,\n",
    "                      drawOptions=opts)\n",
    "img"
   ]
  },
  {
   "cell_type": "markdown",
   "metadata": {
    "id": "xk9kS6MY7cF9"
   },
   "source": [
    "## Visualizing descriptors"
   ]
  },
  {
   "cell_type": "code",
   "execution_count": null,
   "metadata": {
    "colab": {
     "base_uri": "https://localhost:8080/",
     "height": 417
    },
    "executionInfo": {
     "elapsed": 88,
     "status": "ok",
     "timestamp": 1757076383703,
     "user": {
      "displayName": "Sharon Lam",
      "userId": "16351729373087846634"
     },
     "user_tz": -480
    },
    "id": "72cV676t50FK",
    "outputId": "33847866-61c1-4d05-cceb-625b6fb49da3"
   },
   "outputs": [],
   "source": [
    "data_descriptors = pd.read_csv('data_descriptors.csv')\n",
    "param = ['MolWt',\n",
    "\t\t\t\t'MolLogP',\n",
    "\t\t\t\t'NumHDonors',\n",
    "\t\t\t\t'NumHAcceptors',\n",
    "\t\t\t\t'NumRotatableBonds',\n",
    "         'TPSA']\n",
    "phys = pd.concat([data_descriptors['name'],\n",
    "                  data_descriptors[param]],axis=1)\n",
    "\n",
    "fig = make_subplots(rows=1,\n",
    "                    cols=len(param),\n",
    "                    subplot_titles=param)\n",
    "\n",
    "for i, col in enumerate(param):\n",
    "    fig.add_trace(\n",
    "                  go.Box(\n",
    "                  y=phys[col],\n",
    "                  boxpoints='all',\n",
    "                  marker=dict(size=8),\n",
    "                  text=phys['name'],\n",
    "                  hoverinfo='text+y',\n",
    "                  showlegend=False\n",
    "                  ),\n",
    "                  row=1,\n",
    "                  col=i+1\n",
    "                  )\n",
    "\n",
    "    fig.update_xaxes(showticklabels=False,\n",
    "                     row=1,\n",
    "                     col=i+1)\n",
    "\n",
    "fig.update_layout(width=1000,\n",
    "                  height=400,\n",
    "                  title_text=\"Calculated descriptors of beta lactam molecules\")\n",
    "\n",
    "fig.show()\n",
    "fig.write_html(\"calc_desc.html\")"
   ]
  }
 ],
 "metadata": {
  "colab": {
   "authorship_tag": "ABX9TyOuf4uypXX/iCjJC69OUydG",
   "provenance": [],
   "toc_visible": true
  },
  "kernelspec": {
   "display_name": "Python 3 (ipykernel)",
   "language": "python",
   "name": "python3"
  },
  "language_info": {
   "codemirror_mode": {
    "name": "ipython",
    "version": 3
   },
   "file_extension": ".py",
   "mimetype": "text/x-python",
   "name": "python",
   "nbconvert_exporter": "python",
   "pygments_lexer": "ipython3",
   "version": "3.12.11"
  }
 },
 "nbformat": 4,
 "nbformat_minor": 4
}
