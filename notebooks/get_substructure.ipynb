{
 "cells": [
  {
   "cell_type": "code",
   "execution_count": null,
   "metadata": {
    "colab": {
     "base_uri": "https://localhost:8080/"
    },
    "executionInfo": {
     "elapsed": 26704,
     "status": "ok",
     "timestamp": 1757076899345,
     "user": {
      "displayName": "Sharon Lam",
      "userId": "16351729373087846634"
     },
     "user_tz": -480
    },
    "id": "AsymTeUf7nhX",
    "outputId": "47707bbc-6b7e-453c-e9df-f4cf9cc9b2a7"
   },
   "outputs": [],
   "source": [
    "!pip install pandas\n",
    "!pip install rdkit\n",
    "!pip install git+https://github.com/mcs07/PubChemPy.git@a5d8646"
   ]
  },
  {
   "cell_type": "code",
   "execution_count": null,
   "metadata": {
    "executionInfo": {
     "elapsed": 12,
     "status": "ok",
     "timestamp": 1757077087496,
     "user": {
      "displayName": "Sharon Lam",
      "userId": "16351729373087846634"
     },
     "user_tz": -480
    },
    "id": "t6UJo4WW751t"
   },
   "outputs": [],
   "source": [
    "import pandas as pd\n",
    "from rdkit import Chem\n",
    "from rdkit.Chem.Draw import MolsToGridImage\n",
    "from rdkit.Chem import MolFromSmiles, rdFMCS, Draw, MolFromSmarts, MolToSmiles\n",
    "import pubchempy as pcp"
   ]
  },
  {
   "cell_type": "code",
   "execution_count": null,
   "metadata": {
    "colab": {
     "base_uri": "https://localhost:8080/",
     "height": 1000
    },
    "executionInfo": {
     "elapsed": 1390,
     "status": "ok",
     "timestamp": 1757076836822,
     "user": {
      "displayName": "Sharon Lam",
      "userId": "16351729373087846634"
     },
     "user_tz": -480
    },
    "id": "3K-41nJL59HL",
    "outputId": "aa9c557b-5db5-44a1-b2ef-f7e075d9f50a"
   },
   "outputs": [],
   "source": [
    "data_smiles = pd.read_csv('https://raw.githubusercontent.com/sharonlae77/useful_codes/main/data/data_smiles.csv')\n",
    "\n",
    "molecule = [MolFromSmiles(i) for i in data_smiles['smiles']]\n",
    "\n",
    "res = rdFMCS.FindMCS(molecule,\n",
    "                     completeRingsOnly=True\n",
    "                    )\n",
    "\n",
    "substructure_smarts = res.smartsString\n",
    "\n",
    "to_highlight = []\n",
    "\n",
    "for mol in molecule:\n",
    "  substructure = Chem.MolFromSmarts(substructure_smarts)\n",
    "  if mol and substructure:\n",
    "    match = mol.GetSubstructMatch(substructure)\n",
    "    if match:\n",
    "      to_highlight.append(match)\n",
    "    else:\n",
    "      to_highlight.append([])\n",
    "  else:\n",
    "    to_highlight.append([])\n",
    "\n",
    "legends = []\n",
    "for i in range(len(data_smiles)):\n",
    "    legend = data_smiles['name'].iloc[i]\n",
    "    legends.append(legend)\n",
    "\n",
    "opts = Draw.MolDrawOptions()\n",
    "img = MolsToGridImage(molecule,\n",
    "\t\t\t\t\t\t\t\t\t\t\tmolsPerRow=2,\n",
    "\t\t\t\t\t\t\t\t\t\t\tsubImgSize=(1000, 600),\n",
    "\t\t\t\t\t\t\t\t\t\t\tlegends=legends,\n",
    "\t\t\t\t\t\t\t\t\t\t\treturnPNG=True,\n",
    "                      drawOptions=opts,\n",
    "                      highlightAtomLists=to_highlight)\n",
    "img"
   ]
  },
  {
   "cell_type": "code",
   "execution_count": null,
   "metadata": {
    "colab": {
     "base_uri": "https://localhost:8080/"
    },
    "executionInfo": {
     "elapsed": 445,
     "status": "ok",
     "timestamp": 1757077095990,
     "user": {
      "displayName": "Sharon Lam",
      "userId": "16351729373087846634"
     },
     "user_tz": -480
    },
    "id": "vRCLOqYn74xf",
    "outputId": "01fa82c4-aa7a-4a74-b183-31f36245a915"
   },
   "outputs": [],
   "source": [
    "substructure_smiles = MolToSmiles(MolFromSmarts(substructure_smarts))\n",
    "compounds = pcp.get_compounds(substructure_smiles, namespace='smiles')\n",
    "if compounds:\n",
    "    match = compounds[0]\n",
    "    print(match.iupac_name)\n",
    "else:\n",
    "    print(\"Compound not found.\")"
   ]
  },
  {
   "cell_type": "code",
   "execution_count": null,
   "metadata": {
    "id": "zhBgS21l9MNm"
   },
   "outputs": [],
   "source": []
  }
 ],
 "metadata": {
  "colab": {
   "authorship_tag": "ABX9TyMJ2CfZJsYg5Z/QxdiO7kGv",
   "provenance": []
  },
  "kernelspec": {
   "display_name": "Python 3 (ipykernel)",
   "language": "python",
   "name": "python3"
  },
  "language_info": {
   "codemirror_mode": {
    "name": "ipython",
    "version": 3
   },
   "file_extension": ".py",
   "mimetype": "text/x-python",
   "name": "python",
   "nbconvert_exporter": "python",
   "pygments_lexer": "ipython3",
   "version": "3.12.11"
  }
 },
 "nbformat": 4,
 "nbformat_minor": 4
}
