{
 "cells": [
  {
   "cell_type": "code",
   "execution_count": null,
   "metadata": {
    "colab": {
     "base_uri": "https://localhost:8080/"
    },
    "executionInfo": {
     "elapsed": 16839,
     "status": "ok",
     "timestamp": 1757149512680,
     "user": {
      "displayName": "Sharon Lam",
      "userId": "16351729373087846634"
     },
     "user_tz": -480
    },
    "id": "kIEuH6h_QjKf",
    "outputId": "526c0c18-8c81-444c-d35e-11380f398b9e"
   },
   "outputs": [],
   "source": [
    "!pip install medchem"
   ]
  },
  {
   "cell_type": "code",
   "execution_count": null,
   "metadata": {
    "colab": {
     "base_uri": "https://localhost:8080/"
    },
    "executionInfo": {
     "elapsed": 1597,
     "status": "ok",
     "timestamp": 1757149567361,
     "user": {
      "displayName": "Sharon Lam",
      "userId": "16351729373087846634"
     },
     "user_tz": -480
    },
    "id": "2JfZnQjTRVK_",
    "outputId": "49a6d716-27ac-4d42-bb54-eff4ee59593d"
   },
   "outputs": [],
   "source": [
    "import datamol as dm\n",
    "import pandas as pd\n",
    "import medchem as mc\n",
    "from medchem.catalogs import NamedCatalogs\n",
    "from medchem.catalogs import list_named_catalogs\n",
    "from medchem.catalogs import catalog_from_smarts"
   ]
  },
  {
   "cell_type": "code",
   "execution_count": null,
   "metadata": {
    "executionInfo": {
     "elapsed": 14,
     "status": "ok",
     "timestamp": 1757150527664,
     "user": {
      "displayName": "Sharon Lam",
      "userId": "16351729373087846634"
     },
     "user_tz": -480
    },
    "id": "I7K_sXGyR_2G"
   },
   "outputs": [],
   "source": [
    "data_smiles = pd.read_csv('https://raw.githubusercontent.com/sharonlae77/useful_codes/main/data/data_smiles.csv')"
   ]
  },
  {
   "cell_type": "code",
   "execution_count": null,
   "metadata": {
    "executionInfo": {
     "elapsed": 9,
     "status": "ok",
     "timestamp": 1757150536805,
     "user": {
      "displayName": "Sharon Lam",
      "userId": "16351729373087846634"
     },
     "user_tz": -480
    },
    "id": "FjX5yDopVNs1"
   },
   "outputs": [],
   "source": [
    "data_mol = data_smiles[\"smiles\"].apply(dm.to_mol)"
   ]
  },
  {
   "cell_type": "code",
   "execution_count": null,
   "metadata": {
    "executionInfo": {
     "elapsed": 48,
     "status": "ok",
     "timestamp": 1757150547550,
     "user": {
      "displayName": "Sharon Lam",
      "userId": "16351729373087846634"
     },
     "user_tz": -480
    },
    "id": "5qPfUUhyUdYv"
   },
   "outputs": [],
   "source": [
    "rfilter = mc.rules.RuleFilters(\n",
    "    rule_list=[\"rule_of_five\", \"rule_of_veber\"],\n",
    ")"
   ]
  },
  {
   "cell_type": "code",
   "execution_count": null,
   "metadata": {
    "colab": {
     "base_uri": "https://localhost:8080/",
     "height": 238,
     "referenced_widgets": [
      "e841b29f10b948dd80903256cbb886de",
      "694400ea3b2d43129e4909192f9f88fb",
      "2a3d4ff904054a0c97af33891424b102",
      "1008da8af6dd4134991486a5d0f0f5ab",
      "3c09a5b630524118b3a1bbe735f71d0b",
      "bd5b5b1785a944a79a1ba825e0ed5d23",
      "0aab9b6216ba4be48b276dacbde28080",
      "b838cb4cdad44b0d8a2bb13159faa326",
      "632065e114474aaf842925973e9bbeb9",
      "df9b240f2db7418b8fa7a4faa458e35a",
      "74b0d379cba747bab0b1dd025b23341c"
     ]
    },
    "executionInfo": {
     "elapsed": 170,
     "status": "ok",
     "timestamp": 1757150552656,
     "user": {
      "displayName": "Sharon Lam",
      "userId": "16351729373087846634"
     },
     "user_tz": -480
    },
    "id": "0jDD1B-pSN0g",
    "outputId": "c0ec87b7-64cb-454e-9bad-78a870d867a4"
   },
   "outputs": [],
   "source": [
    "results = rfilter(\n",
    "    mols=data_mol.tolist(),\n",
    "    n_jobs=-1,\n",
    "    progress=True,\n",
    "    progress_leave=True,\n",
    "    scheduler=\"auto\",\n",
    "    keep_props=False,\n",
    "    fail_if_invalid=True,\n",
    ")\n",
    "\n",
    "results.head()"
   ]
  },
  {
   "cell_type": "code",
   "execution_count": null,
   "metadata": {
    "executionInfo": {
     "elapsed": 4,
     "status": "ok",
     "timestamp": 1757150575625,
     "user": {
      "displayName": "Sharon Lam",
      "userId": "16351729373087846634"
     },
     "user_tz": -480
    },
    "id": "kg7E_B3rUvyA"
   },
   "outputs": [],
   "source": [
    "data_results = pd.concat([data_smiles,results],axis=1)"
   ]
  },
  {
   "cell_type": "code",
   "execution_count": null,
   "metadata": {
    "colab": {
     "base_uri": "https://localhost:8080/",
     "height": 195
    },
    "executionInfo": {
     "elapsed": 47,
     "status": "ok",
     "timestamp": 1757150577173,
     "user": {
      "displayName": "Sharon Lam",
      "userId": "16351729373087846634"
     },
     "user_tz": -480
    },
    "id": "xQ7a3MUTU6sn",
    "outputId": "d672f348-7d80-400c-df9e-c11595c274f9"
   },
   "outputs": [],
   "source": [
    "data_results[data_results['pass_all']==True]"
   ]
  },
  {
   "cell_type": "code",
   "execution_count": null,
   "metadata": {
    "colab": {
     "base_uri": "https://localhost:8080/",
     "height": 147
    },
    "executionInfo": {
     "elapsed": 38,
     "status": "ok",
     "timestamp": 1757150582355,
     "user": {
      "displayName": "Sharon Lam",
      "userId": "16351729373087846634"
     },
     "user_tz": -480
    },
    "id": "INbSz7sdVFZF",
    "outputId": "39fe5cbf-3d2d-4c44-8258-68078d7dcca4"
   },
   "outputs": [],
   "source": [
    "data_results[data_results['pass_all']==False]"
   ]
  }
 ],
 "metadata": {
  "colab": {
   "authorship_tag": "ABX9TyOXJpVdbfKwBhYwhZHYPn0N",
   "provenance": []
  },
  "kernelspec": {
   "display_name": "Python 3 (ipykernel)",
   "language": "python",
   "name": "python3"
  },
  "language_info": {
   "codemirror_mode": {
    "name": "ipython",
    "version": 3
   },
   "file_extension": ".py",
   "mimetype": "text/x-python",
   "name": "python",
   "nbconvert_exporter": "python",
   "pygments_lexer": "ipython3",
   "version": "3.12.11"
  },
  "widgets": {
   "application/vnd.jupyter.widget-state+json": {
    "0aab9b6216ba4be48b276dacbde28080": {
     "model_module": "@jupyter-widgets/controls",
     "model_module_version": "1.5.0",
     "model_name": "DescriptionStyleModel",
     "state": {
      "_model_module": "@jupyter-widgets/controls",
      "_model_module_version": "1.5.0",
      "_model_name": "DescriptionStyleModel",
      "_view_count": null,
      "_view_module": "@jupyter-widgets/base",
      "_view_module_version": "1.2.0",
      "_view_name": "StyleView",
      "description_width": ""
     }
    },
    "1008da8af6dd4134991486a5d0f0f5ab": {
     "model_module": "@jupyter-widgets/controls",
     "model_module_version": "1.5.0",
     "model_name": "HTMLModel",
     "state": {
      "_dom_classes": [],
      "_model_module": "@jupyter-widgets/controls",
      "_model_module_version": "1.5.0",
      "_model_name": "HTMLModel",
      "_view_count": null,
      "_view_module": "@jupyter-widgets/controls",
      "_view_module_version": "1.5.0",
      "_view_name": "HTMLView",
      "description": "",
      "description_tooltip": null,
      "layout": "IPY_MODEL_df9b240f2db7418b8fa7a4faa458e35a",
      "placeholder": "​",
      "style": "IPY_MODEL_74b0d379cba747bab0b1dd025b23341c",
      "value": " 5/5 [00:00&lt;00:00, 56.81it/s]"
     }
    },
    "2a3d4ff904054a0c97af33891424b102": {
     "model_module": "@jupyter-widgets/controls",
     "model_module_version": "1.5.0",
     "model_name": "FloatProgressModel",
     "state": {
      "_dom_classes": [],
      "_model_module": "@jupyter-widgets/controls",
      "_model_module_version": "1.5.0",
      "_model_name": "FloatProgressModel",
      "_view_count": null,
      "_view_module": "@jupyter-widgets/controls",
      "_view_module_version": "1.5.0",
      "_view_name": "ProgressView",
      "bar_style": "success",
      "description": "",
      "description_tooltip": null,
      "layout": "IPY_MODEL_b838cb4cdad44b0d8a2bb13159faa326",
      "max": 5,
      "min": 0,
      "orientation": "horizontal",
      "style": "IPY_MODEL_632065e114474aaf842925973e9bbeb9",
      "value": 5
     }
    },
    "3c09a5b630524118b3a1bbe735f71d0b": {
     "model_module": "@jupyter-widgets/base",
     "model_module_version": "1.2.0",
     "model_name": "LayoutModel",
     "state": {
      "_model_module": "@jupyter-widgets/base",
      "_model_module_version": "1.2.0",
      "_model_name": "LayoutModel",
      "_view_count": null,
      "_view_module": "@jupyter-widgets/base",
      "_view_module_version": "1.2.0",
      "_view_name": "LayoutView",
      "align_content": null,
      "align_items": null,
      "align_self": null,
      "border": null,
      "bottom": null,
      "display": null,
      "flex": null,
      "flex_flow": null,
      "grid_area": null,
      "grid_auto_columns": null,
      "grid_auto_flow": null,
      "grid_auto_rows": null,
      "grid_column": null,
      "grid_gap": null,
      "grid_row": null,
      "grid_template_areas": null,
      "grid_template_columns": null,
      "grid_template_rows": null,
      "height": null,
      "justify_content": null,
      "justify_items": null,
      "left": null,
      "margin": null,
      "max_height": null,
      "max_width": null,
      "min_height": null,
      "min_width": null,
      "object_fit": null,
      "object_position": null,
      "order": null,
      "overflow": null,
      "overflow_x": null,
      "overflow_y": null,
      "padding": null,
      "right": null,
      "top": null,
      "visibility": null,
      "width": null
     }
    },
    "632065e114474aaf842925973e9bbeb9": {
     "model_module": "@jupyter-widgets/controls",
     "model_module_version": "1.5.0",
     "model_name": "ProgressStyleModel",
     "state": {
      "_model_module": "@jupyter-widgets/controls",
      "_model_module_version": "1.5.0",
      "_model_name": "ProgressStyleModel",
      "_view_count": null,
      "_view_module": "@jupyter-widgets/base",
      "_view_module_version": "1.2.0",
      "_view_name": "StyleView",
      "bar_color": null,
      "description_width": ""
     }
    },
    "694400ea3b2d43129e4909192f9f88fb": {
     "model_module": "@jupyter-widgets/controls",
     "model_module_version": "1.5.0",
     "model_name": "HTMLModel",
     "state": {
      "_dom_classes": [],
      "_model_module": "@jupyter-widgets/controls",
      "_model_module_version": "1.5.0",
      "_model_name": "HTMLModel",
      "_view_count": null,
      "_view_module": "@jupyter-widgets/controls",
      "_view_module_version": "1.5.0",
      "_view_name": "HTMLView",
      "description": "",
      "description_tooltip": null,
      "layout": "IPY_MODEL_bd5b5b1785a944a79a1ba825e0ed5d23",
      "placeholder": "​",
      "style": "IPY_MODEL_0aab9b6216ba4be48b276dacbde28080",
      "value": "Filter by rules: 100%"
     }
    },
    "74b0d379cba747bab0b1dd025b23341c": {
     "model_module": "@jupyter-widgets/controls",
     "model_module_version": "1.5.0",
     "model_name": "DescriptionStyleModel",
     "state": {
      "_model_module": "@jupyter-widgets/controls",
      "_model_module_version": "1.5.0",
      "_model_name": "DescriptionStyleModel",
      "_view_count": null,
      "_view_module": "@jupyter-widgets/base",
      "_view_module_version": "1.2.0",
      "_view_name": "StyleView",
      "description_width": ""
     }
    },
    "b838cb4cdad44b0d8a2bb13159faa326": {
     "model_module": "@jupyter-widgets/base",
     "model_module_version": "1.2.0",
     "model_name": "LayoutModel",
     "state": {
      "_model_module": "@jupyter-widgets/base",
      "_model_module_version": "1.2.0",
      "_model_name": "LayoutModel",
      "_view_count": null,
      "_view_module": "@jupyter-widgets/base",
      "_view_module_version": "1.2.0",
      "_view_name": "LayoutView",
      "align_content": null,
      "align_items": null,
      "align_self": null,
      "border": null,
      "bottom": null,
      "display": null,
      "flex": null,
      "flex_flow": null,
      "grid_area": null,
      "grid_auto_columns": null,
      "grid_auto_flow": null,
      "grid_auto_rows": null,
      "grid_column": null,
      "grid_gap": null,
      "grid_row": null,
      "grid_template_areas": null,
      "grid_template_columns": null,
      "grid_template_rows": null,
      "height": null,
      "justify_content": null,
      "justify_items": null,
      "left": null,
      "margin": null,
      "max_height": null,
      "max_width": null,
      "min_height": null,
      "min_width": null,
      "object_fit": null,
      "object_position": null,
      "order": null,
      "overflow": null,
      "overflow_x": null,
      "overflow_y": null,
      "padding": null,
      "right": null,
      "top": null,
      "visibility": null,
      "width": null
     }
    },
    "bd5b5b1785a944a79a1ba825e0ed5d23": {
     "model_module": "@jupyter-widgets/base",
     "model_module_version": "1.2.0",
     "model_name": "LayoutModel",
     "state": {
      "_model_module": "@jupyter-widgets/base",
      "_model_module_version": "1.2.0",
      "_model_name": "LayoutModel",
      "_view_count": null,
      "_view_module": "@jupyter-widgets/base",
      "_view_module_version": "1.2.0",
      "_view_name": "LayoutView",
      "align_content": null,
      "align_items": null,
      "align_self": null,
      "border": null,
      "bottom": null,
      "display": null,
      "flex": null,
      "flex_flow": null,
      "grid_area": null,
      "grid_auto_columns": null,
      "grid_auto_flow": null,
      "grid_auto_rows": null,
      "grid_column": null,
      "grid_gap": null,
      "grid_row": null,
      "grid_template_areas": null,
      "grid_template_columns": null,
      "grid_template_rows": null,
      "height": null,
      "justify_content": null,
      "justify_items": null,
      "left": null,
      "margin": null,
      "max_height": null,
      "max_width": null,
      "min_height": null,
      "min_width": null,
      "object_fit": null,
      "object_position": null,
      "order": null,
      "overflow": null,
      "overflow_x": null,
      "overflow_y": null,
      "padding": null,
      "right": null,
      "top": null,
      "visibility": null,
      "width": null
     }
    },
    "df9b240f2db7418b8fa7a4faa458e35a": {
     "model_module": "@jupyter-widgets/base",
     "model_module_version": "1.2.0",
     "model_name": "LayoutModel",
     "state": {
      "_model_module": "@jupyter-widgets/base",
      "_model_module_version": "1.2.0",
      "_model_name": "LayoutModel",
      "_view_count": null,
      "_view_module": "@jupyter-widgets/base",
      "_view_module_version": "1.2.0",
      "_view_name": "LayoutView",
      "align_content": null,
      "align_items": null,
      "align_self": null,
      "border": null,
      "bottom": null,
      "display": null,
      "flex": null,
      "flex_flow": null,
      "grid_area": null,
      "grid_auto_columns": null,
      "grid_auto_flow": null,
      "grid_auto_rows": null,
      "grid_column": null,
      "grid_gap": null,
      "grid_row": null,
      "grid_template_areas": null,
      "grid_template_columns": null,
      "grid_template_rows": null,
      "height": null,
      "justify_content": null,
      "justify_items": null,
      "left": null,
      "margin": null,
      "max_height": null,
      "max_width": null,
      "min_height": null,
      "min_width": null,
      "object_fit": null,
      "object_position": null,
      "order": null,
      "overflow": null,
      "overflow_x": null,
      "overflow_y": null,
      "padding": null,
      "right": null,
      "top": null,
      "visibility": null,
      "width": null
     }
    },
    "e841b29f10b948dd80903256cbb886de": {
     "model_module": "@jupyter-widgets/controls",
     "model_module_version": "1.5.0",
     "model_name": "HBoxModel",
     "state": {
      "_dom_classes": [],
      "_model_module": "@jupyter-widgets/controls",
      "_model_module_version": "1.5.0",
      "_model_name": "HBoxModel",
      "_view_count": null,
      "_view_module": "@jupyter-widgets/controls",
      "_view_module_version": "1.5.0",
      "_view_name": "HBoxView",
      "box_style": "",
      "children": [
       "IPY_MODEL_694400ea3b2d43129e4909192f9f88fb",
       "IPY_MODEL_2a3d4ff904054a0c97af33891424b102",
       "IPY_MODEL_1008da8af6dd4134991486a5d0f0f5ab"
      ],
      "layout": "IPY_MODEL_3c09a5b630524118b3a1bbe735f71d0b"
     }
    }
   }
  }
 },
 "nbformat": 4,
 "nbformat_minor": 4
}
