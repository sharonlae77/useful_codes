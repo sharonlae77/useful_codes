{
 "cells": [
  {
   "cell_type": "code",
   "execution_count": null,
   "metadata": {
    "executionInfo": {
     "elapsed": 2,
     "status": "ok",
     "timestamp": 1757079133726,
     "user": {
      "displayName": "Sharon Lam",
      "userId": "16351729373087846634"
     },
     "user_tz": -480
    },
    "id": "Q_ATkPH9E9EO"
   },
   "outputs": [],
   "source": [
    "import pandas as pd"
   ]
  },
  {
   "cell_type": "code",
   "execution_count": null,
   "metadata": {
    "executionInfo": {
     "elapsed": 14,
     "status": "ok",
     "timestamp": 1757079427714,
     "user": {
      "displayName": "Sharon Lam",
      "userId": "16351729373087846634"
     },
     "user_tz": -480
    },
    "id": "DtxDTFFqEy6k"
   },
   "outputs": [],
   "source": [
    "data_descriptors = pd.read_csv('data_descriptors.csv')\n",
    "\n",
    "### Here we define a function to determine oral bioavailability based on Lipinski's and Veber's rules ###\n",
    "\n",
    "def oral_bio(data_descriptors):\n",
    "\n",
    "  idx = data_descriptors.index[data_descriptors['NumHDonors']<=5].tolist()\n",
    "  new = data_descriptors.iloc[idx,:]\n",
    "  new.reset_index(drop=True,inplace=True)\n",
    "\n",
    "  idx = new.index[new['NumHAcceptors']<=10].tolist()\n",
    "  new = new.iloc[idx,:]\n",
    "  new.reset_index(drop=True,inplace=True)\n",
    "\n",
    "  idx = new.index[new['ExactMolWt']<=500].tolist()\n",
    "  new = new.iloc[idx,:]\n",
    "  new.reset_index(drop=True,inplace=True)\n",
    "\n",
    "  idx = new.index[new['MolLogP']<=5].tolist()\n",
    "  new = new.iloc[idx,:]\n",
    "  new.reset_index(drop=True,inplace=True)\n",
    "\n",
    "  idx = new.index[new['NumRotatableBonds']<=10].tolist()\n",
    "  new = new.iloc[idx,:]\n",
    "  new.reset_index(drop=True,inplace=True)\n",
    "\n",
    "  idx = new.index[new['TPSA']<=140].tolist()\n",
    "  new = new.iloc[idx,:]\n",
    "  new.reset_index(drop=True,inplace=True)\n",
    "\n",
    "  return new"
   ]
  },
  {
   "cell_type": "code",
   "execution_count": null,
   "metadata": {
    "colab": {
     "base_uri": "https://localhost:8080/",
     "height": 245
    },
    "executionInfo": {
     "elapsed": 66,
     "status": "ok",
     "timestamp": 1757079430284,
     "user": {
      "displayName": "Sharon Lam",
      "userId": "16351729373087846634"
     },
     "user_tz": -480
    },
    "id": "0gVO4A0NE4ke",
    "outputId": "c2c6e7c5-e4ea-4e5d-e390-049e7f76926e"
   },
   "outputs": [],
   "source": [
    "oral_bio(data_descriptors)"
   ]
  },
  {
   "cell_type": "code",
   "execution_count": null,
   "metadata": {
    "colab": {
     "base_uri": "https://localhost:8080/",
     "height": 342
    },
    "executionInfo": {
     "elapsed": 62,
     "status": "ok",
     "timestamp": 1757079447405,
     "user": {
      "displayName": "Sharon Lam",
      "userId": "16351729373087846634"
     },
     "user_tz": -480
    },
    "id": "t2Oh_b5fGGNz",
    "outputId": "12df607f-3540-41fa-d5a1-482f4fe52191"
   },
   "outputs": [],
   "source": [
    "data_descriptors"
   ]
  },
  {
   "cell_type": "code",
   "execution_count": null,
   "metadata": {
    "id": "mPps3pjAGKYA"
   },
   "outputs": [],
   "source": []
  }
 ],
 "metadata": {
  "colab": {
   "authorship_tag": "ABX9TyMbQoSLnsnI88GA/ATAKDZV",
   "provenance": []
  },
  "kernelspec": {
   "display_name": "Python 3 (ipykernel)",
   "language": "python",
   "name": "python3"
  },
  "language_info": {
   "codemirror_mode": {
    "name": "ipython",
    "version": 3
   },
   "file_extension": ".py",
   "mimetype": "text/x-python",
   "name": "python",
   "nbconvert_exporter": "python",
   "pygments_lexer": "ipython3",
   "version": "3.12.11"
  }
 },
 "nbformat": 4,
 "nbformat_minor": 4
}
