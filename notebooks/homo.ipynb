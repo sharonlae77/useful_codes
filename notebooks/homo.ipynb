{
 "cells": [
  {
   "cell_type": "code",
   "execution_count": null,
   "metadata": {
    "colab": {
     "base_uri": "https://localhost:8080/"
    },
    "executionInfo": {
     "elapsed": 55152,
     "status": "ok",
     "timestamp": 1757147889001,
     "user": {
      "displayName": "Sharon Lam",
      "userId": "16351729373087846634"
     },
     "user_tz": -480
    },
    "id": "W7UlvbjNqPK7",
    "outputId": "168b55be-b909-479b-9ce8-e7e6a59a3edc"
   },
   "outputs": [],
   "source": [
    "!pip install rdkit\n",
    "!pip install py3Dmol\n",
    "!pip install fortecubeview\n",
    "!pip install pythreejs\n",
    "!pip install pyscf"
   ]
  },
  {
   "cell_type": "code",
   "execution_count": null,
   "metadata": {
    "executionInfo": {
     "elapsed": 2416,
     "status": "ok",
     "timestamp": 1757147891419,
     "user": {
      "displayName": "Sharon Lam",
      "userId": "16351729373087846634"
     },
     "user_tz": -480
    },
    "id": "dXUjVXIcnhbb"
   },
   "outputs": [],
   "source": [
    "import pathlib\n",
    "from rdkit import Chem\n",
    "from rdkit.Chem import (\n",
    "    AllChem,\n",
    "    rdCoordGen,\n",
    ")\n",
    "from rdkit.Chem.Draw import IPythonConsole\n",
    "\n",
    "IPythonConsole.ipython_useSVG = True  # Use higher quality images for molecules\n",
    "\n",
    "# For visualization of molecules and orbitals:\n",
    "import py3Dmol\n",
    "import fortecubeview\n",
    "\n",
    "# pyscf imports:\n",
    "from pyscf import gto, scf, lo, tools\n",
    "\n",
    "# For plotting\n",
    "import matplotlib\n",
    "from matplotlib import pyplot as plt\n",
    "import seaborn as sns\n",
    "\n",
    "%matplotlib inline\n",
    "sns.set_theme(style=\"ticks\", context=\"talk\", palette=\"muted\")\n",
    "\n",
    "# For numerics:\n",
    "import numpy as np\n",
    "import pandas as pd\n",
    "\n",
    "pd.options.display.float_format = \"{:,.3f}\".format"
   ]
  },
  {
   "cell_type": "code",
   "execution_count": null,
   "metadata": {
    "colab": {
     "base_uri": "https://localhost:8080/",
     "height": 0
    },
    "executionInfo": {
     "elapsed": 41,
     "status": "ok",
     "timestamp": 1757147891461,
     "user": {
      "displayName": "Sharon Lam",
      "userId": "16351729373087846634"
     },
     "user_tz": -480
    },
    "id": "q1IBmhu_qQXK",
    "outputId": "1cde3b53-cd63-40e9-93b2-5d6ed9f4de0c"
   },
   "outputs": [],
   "source": [
    "molecule_name = \"1,3-cyclopentadiene\"\n",
    "molecule = Chem.MolFromSmiles(\"C1C=CC=C1\")  # Generate the molecule from smiles\n",
    "molecule"
   ]
  },
  {
   "cell_type": "code",
   "execution_count": null,
   "metadata": {
    "executionInfo": {
     "elapsed": 8,
     "status": "ok",
     "timestamp": 1757147891472,
     "user": {
      "displayName": "Sharon Lam",
      "userId": "16351729373087846634"
     },
     "user_tz": -480
    },
    "id": "8e-98xuUq8P-"
   },
   "outputs": [],
   "source": [
    "def get_xyz(molecule, optimize=False):\n",
    "    \"\"\"Get xyz-coordinates for the molecule\"\"\"\n",
    "    mol = Chem.Mol(molecule)\n",
    "    mol = AllChem.AddHs(mol, addCoords=True)\n",
    "    AllChem.EmbedMolecule(mol)\n",
    "    if optimize:  # Optimize the molecules with the MM force field:\n",
    "        AllChem.MMFFOptimizeMolecule(mol)\n",
    "    xyz = []\n",
    "    for lines in Chem.MolToXYZBlock(mol).split(\"\\n\")[2:]:\n",
    "        strip = lines.strip()\n",
    "        if strip:\n",
    "            xyz.append(strip)\n",
    "    xyz = \"\\n\".join(xyz)\n",
    "    return mol, xyz"
   ]
  },
  {
   "cell_type": "code",
   "execution_count": null,
   "metadata": {
    "executionInfo": {
     "elapsed": 1,
     "status": "ok",
     "timestamp": 1757147891475,
     "user": {
      "displayName": "Sharon Lam",
      "userId": "16351729373087846634"
     },
     "user_tz": -480
    },
    "id": "LW5Tq5xevkI1"
   },
   "outputs": [],
   "source": [
    "molecule3d, xyz = get_xyz(molecule)"
   ]
  },
  {
   "cell_type": "code",
   "execution_count": null,
   "metadata": {
    "executionInfo": {
     "elapsed": 2,
     "status": "ok",
     "timestamp": 1757147891486,
     "user": {
      "displayName": "Sharon Lam",
      "userId": "16351729373087846634"
     },
     "user_tz": -480
    },
    "id": "hDQ7eyEHrBk2"
   },
   "outputs": [],
   "source": [
    "def run_calculation(xyz, basis):\n",
    "    \"\"\"Calculate the energy (+ additional things like MO coefficients) with pyscf.\"\"\"\n",
    "    mol = gto.M(\n",
    "        atom=xyz,\n",
    "        basis=basis,\n",
    "        unit=\"ANG\",\n",
    "        symmetry=True,\n",
    "    )\n",
    "    mol.build()\n",
    "    mf = scf.RHF(mol).run()\n",
    "    return mf, mol"
   ]
  },
  {
   "cell_type": "code",
   "execution_count": null,
   "metadata": {
    "colab": {
     "base_uri": "https://localhost:8080/"
    },
    "executionInfo": {
     "elapsed": 567,
     "status": "ok",
     "timestamp": 1757147892054,
     "user": {
      "displayName": "Sharon Lam",
      "userId": "16351729373087846634"
     },
     "user_tz": -480
    },
    "id": "PuzmGJ3fne5k",
    "outputId": "3be032b3-4e18-43b8-e4c0-d8f02aa529bf"
   },
   "outputs": [],
   "source": [
    "mf, mol = run_calculation(xyz, \"sto-3g\")"
   ]
  },
  {
   "cell_type": "code",
   "execution_count": null,
   "metadata": {
    "colab": {
     "base_uri": "https://localhost:8080/",
     "height": 0
    },
    "executionInfo": {
     "elapsed": 2,
     "status": "ok",
     "timestamp": 1757147892057,
     "user": {
      "displayName": "Sharon Lam",
      "userId": "16351729373087846634"
     },
     "user_tz": -480
    },
    "id": "mlRIdF8yrIyv",
    "outputId": "230b241b-6e57-4802-978d-e54815273690"
   },
   "outputs": [],
   "source": [
    "table = pd.DataFrame({\"Energy\": mf.mo_energy, \"Occupancy\": mf.mo_occ})\n",
    "table"
   ]
  },
  {
   "cell_type": "code",
   "execution_count": null,
   "metadata": {
    "executionInfo": {
     "elapsed": 1,
     "status": "ok",
     "timestamp": 1757147892058,
     "user": {
      "displayName": "Sharon Lam",
      "userId": "16351729373087846634"
     },
     "user_tz": -480
    },
    "id": "-HwnDB_urKYO"
   },
   "outputs": [],
   "source": [
    "def get_mo(mf, mol):\n",
    "    \"\"\"Get molecular orbitals\"\"\"\n",
    "    orbitals = {\"canonical\": mf.mo_coeff}\n",
    "    return orbitals"
   ]
  },
  {
   "cell_type": "code",
   "execution_count": null,
   "metadata": {
    "executionInfo": {
     "elapsed": 30,
     "status": "ok",
     "timestamp": 1757147892090,
     "user": {
      "displayName": "Sharon Lam",
      "userId": "16351729373087846634"
     },
     "user_tz": -480
    },
    "id": "l7LT40vXrNKP"
   },
   "outputs": [],
   "source": [
    "orbitals = get_mo(mf, mol)"
   ]
  },
  {
   "cell_type": "code",
   "execution_count": null,
   "metadata": {
    "executionInfo": {
     "elapsed": 6,
     "status": "ok",
     "timestamp": 1757147892091,
     "user": {
      "displayName": "Sharon Lam",
      "userId": "16351729373087846634"
     },
     "user_tz": -480
    },
    "id": "bNPzNbuxrPKY"
   },
   "outputs": [],
   "source": [
    "def write_all_coeffs(\n",
    "    mol, coeffs, prefix=\"cmo\", dirname=\".\", margin=5, offset=0\n",
    "):\n",
    "    \"\"\"Write cube files for the given coefficients.\"\"\"\n",
    "    path = pathlib.Path(dirname)\n",
    "    path.mkdir(parents=True, exist_ok=True)\n",
    "\n",
    "    for i in range(coeffs.shape[1]):\n",
    "        outfile = f\"{prefix}_{i+offset:02d}.cube\"\n",
    "        outfile = path / outfile\n",
    "        print(f\"Writing {outfile}\")\n",
    "        tools.cubegen.orbital(mol, outfile, coeffs[:, i], margin=margin)"
   ]
  },
  {
   "cell_type": "code",
   "execution_count": null,
   "metadata": {
    "colab": {
     "base_uri": "https://localhost:8080/"
    },
    "executionInfo": {
     "elapsed": 5,
     "status": "ok",
     "timestamp": 1757147892091,
     "user": {
      "displayName": "Sharon Lam",
      "userId": "16351729373087846634"
     },
     "user_tz": -480
    },
    "id": "I-ilEA2IrQjQ",
    "outputId": "6c888e68-d398-4748-8ff1-5eae24d730bc"
   },
   "outputs": [],
   "source": [
    "def find_homo_lumo(mf):\n",
    "    lumo = float(\"inf\")\n",
    "    lumo_idx = None\n",
    "    homo = -float(\"inf\")\n",
    "    homo_idx = None\n",
    "    for i, (energy, occ) in enumerate(zip(mf.mo_energy, mf.mo_occ)):\n",
    "        if occ > 0 and energy > homo:\n",
    "            homo = energy\n",
    "            homo_idx = i\n",
    "        if occ == 0 and energy < lumo:\n",
    "            lumo = energy\n",
    "            lumo_idx = i\n",
    "    return homo, homo_idx, lumo, lumo_idx\n",
    "\n",
    "_, homo_idx, _, lumo_idx = find_homo_lumo(mf)\n",
    "print(f\"HOMO (index): {homo_idx}\")\n",
    "print(f\"LUMO (index): {lumo_idx}\")"
   ]
  },
  {
   "cell_type": "code",
   "execution_count": null,
   "metadata": {
    "colab": {
     "base_uri": "https://localhost:8080/"
    },
    "executionInfo": {
     "elapsed": 1696,
     "status": "ok",
     "timestamp": 1757147893785,
     "user": {
      "displayName": "Sharon Lam",
      "userId": "16351729373087846634"
     },
     "user_tz": -480
    },
    "id": "kYtSTWEUrSDQ",
    "outputId": "88c86668-9a6b-4bbe-8971-4ac8359a3677"
   },
   "outputs": [],
   "source": [
    "tools.cubegen.orbital(\n",
    "    mol, \"cmo_homo.cube\", orbitals[\"canonical\"][:, homo_idx], margin=5\n",
    ")"
   ]
  },
  {
   "cell_type": "code",
   "execution_count": null,
   "metadata": {
    "colab": {
     "base_uri": "https://localhost:8080/",
     "height": 167,
     "referenced_widgets": [
      "c0d7986cb5d948e7ad0502b5c0ae62fd",
      "585ad32aa7eb4f03a3e1e4b4014f28bd",
      "2bc1dbb915ce4f1186fa676e9f6301de",
      "10d05d7ac17e42eabb5f04b311d2e1d0",
      "0b73471822564a369f2d331b9cad01fd",
      "bd31421d9b924ca7aa194cd9f6e43ed0",
      "4de4b3c4d15e42de8119f918cb5fbe1f",
      "85a0a3d30a8b471a98142956e60a6a75",
      "f0ac914f41a3421c88009a45c2387e77",
      "eb76a977fe754d2cbf274eab45aa1324",
      "149acb5e62db4330b3a619ebc660450f",
      "78b6db5fe03e4eb3af11d26246008b2d",
      "d83ce62dfa1645c190a35447c5c58c6f",
      "7199b1639d3249278c81577ff07a55d1",
      "f0a9cf0a2eda4205a65091fbf715fcb2",
      "5d9a4acaa56344d3baf419151c92dee2",
      "2b542697bf9544d697ee2f0e4bd2b606",
      "73c62c71224d4d739f372a516112a98b",
      "2c2bd2c378ab4b1592189c53e44b3a73"
     ]
    },
    "executionInfo": {
     "elapsed": 4220,
     "status": "ok",
     "timestamp": 1757147898007,
     "user": {
      "displayName": "Sharon Lam",
      "userId": "16351729373087846634"
     },
     "user_tz": -480
    },
    "id": "W3Gq2-21rTlz",
    "outputId": "fb36d03d-55aa-459d-fe41-a3cfa42cfd43"
   },
   "outputs": [],
   "source": [
    "fortecubeview.plot(path=\".\", sumlevel=0.85)"
   ]
  },
  {
   "cell_type": "code",
   "execution_count": null,
   "metadata": {
    "executionInfo": {
     "elapsed": 1,
     "status": "ok",
     "timestamp": 1757147898009,
     "user": {
      "displayName": "Sharon Lam",
      "userId": "16351729373087846634"
     },
     "user_tz": -480
    },
    "id": "O2OReVXMrVw8"
   },
   "outputs": [],
   "source": [
    "data = None\n",
    "with open(\"cmo_homo.cube\", \"r\") as infile:\n",
    "    data = infile.read()"
   ]
  },
  {
   "cell_type": "code",
   "execution_count": null,
   "metadata": {
    "colab": {
     "base_uri": "https://localhost:8080/",
     "height": 497,
     "output_embedded_package_id": "1twDMUUuQVinoQwUsG4yzHFW0MWgMX_RN"
    },
    "executionInfo": {
     "elapsed": 12405,
     "status": "ok",
     "timestamp": 1757147910415,
     "user": {
      "displayName": "Sharon Lam",
      "userId": "16351729373087846634"
     },
     "user_tz": -480
    },
    "id": "dC3Nsc0fra4n",
    "outputId": "9ecb2233-ea14-4b64-e480-d790c3e43641"
   },
   "outputs": [],
   "source": [
    "view = py3Dmol.view()\n",
    "view.addVolumetricData(\n",
    "    data,\n",
    "    \"cube\",\n",
    "    {\n",
    "        \"isoval\": 0.05,\n",
    "        \"smoothness\": 5,\n",
    "        \"opacity\": 0.8,\n",
    "        \"volformat\": \"cube\",\n",
    "        \"color\": \"blue\",\n",
    "    },\n",
    ")\n",
    "view.addVolumetricData(\n",
    "    data,\n",
    "    \"cube\",\n",
    "    {\n",
    "        \"isoval\": -0.05,\n",
    "        \"smoothness\": 5,\n",
    "        \"opacity\": 0.8,\n",
    "        \"volformat\": \"cube\",\n",
    "        \"color\": \"orange\",\n",
    "    },\n",
    ")\n",
    "view.addModel(data, \"cube\")\n",
    "view.setStyle({\"stick\": {}})\n",
    "view.zoomTo()\n",
    "view.show()"
   ]
  },
  {
   "cell_type": "code",
   "execution_count": null,
   "metadata": {
    "id": "JtBZ43SWw8aK"
   },
   "outputs": [],
   "source": []
  }
 ],
 "metadata": {
  "colab": {
   "authorship_tag": "ABX9TyNoUbsSNVA2Z9Zn9lwVtdop",
   "provenance": []
  },
  "kernelspec": {
   "display_name": "Python 3 (ipykernel)",
   "language": "python",
   "name": "python3"
  },
  "language_info": {
   "codemirror_mode": {
    "name": "ipython",
    "version": 3
   },
   "file_extension": ".py",
   "mimetype": "text/x-python",
   "name": "python",
   "nbconvert_exporter": "python",
   "pygments_lexer": "ipython3",
   "version": "3.12.11"
  },
  "widgets": {
   "application/vnd.jupyter.widget-state+json": {
    "0b73471822564a369f2d331b9cad01fd": {
     "model_module": "@jupyter-widgets/base",
     "model_module_version": "1.2.0",
     "model_name": "LayoutModel",
     "state": {
      "_model_module": "@jupyter-widgets/base",
      "_model_module_version": "1.2.0",
      "_model_name": "LayoutModel",
      "_view_count": null,
      "_view_module": "@jupyter-widgets/base",
      "_view_module_version": "1.2.0",
      "_view_name": "LayoutView",
      "align_content": null,
      "align_items": null,
      "align_self": null,
      "border": "0px solid black",
      "bottom": null,
      "display": null,
      "flex": null,
      "flex_flow": null,
      "grid_area": null,
      "grid_auto_columns": null,
      "grid_auto_flow": null,
      "grid_auto_rows": null,
      "grid_column": null,
      "grid_gap": null,
      "grid_row": null,
      "grid_template_areas": null,
      "grid_template_columns": null,
      "grid_template_rows": null,
      "height": "500px",
      "justify_content": null,
      "justify_items": null,
      "left": null,
      "margin": null,
      "max_height": null,
      "max_width": null,
      "min_height": null,
      "min_width": null,
      "object_fit": null,
      "object_position": null,
      "order": null,
      "overflow": null,
      "overflow_x": null,
      "overflow_y": null,
      "padding": null,
      "right": null,
      "top": null,
      "visibility": null,
      "width": "450px"
     }
    },
    "10d05d7ac17e42eabb5f04b311d2e1d0": {
     "model_module": "@jupyter-widgets/controls",
     "model_module_version": "1.5.0",
     "model_name": "HTMLModel",
     "state": {
      "_dom_classes": [],
      "_model_module": "@jupyter-widgets/controls",
      "_model_module_version": "1.5.0",
      "_model_name": "HTMLModel",
      "_view_count": null,
      "_view_module": "@jupyter-widgets/controls",
      "_view_module_version": "1.5.0",
      "_view_name": "HTMLView",
      "description": "",
      "description_tooltip": null,
      "layout": "IPY_MODEL_f0ac914f41a3421c88009a45c2387e77",
      "placeholder": "​",
      "style": "IPY_MODEL_eb76a977fe754d2cbf274eab45aa1324",
      "value": "<div align=\"center\">(./cmo_homo.cube)</div>"
     }
    },
    "149acb5e62db4330b3a619ebc660450f": {
     "model_module": "@jupyter-widgets/base",
     "model_module_version": "1.2.0",
     "model_name": "LayoutModel",
     "state": {
      "_model_module": "@jupyter-widgets/base",
      "_model_module_version": "1.2.0",
      "_model_name": "LayoutModel",
      "_view_count": null,
      "_view_module": "@jupyter-widgets/base",
      "_view_module_version": "1.2.0",
      "_view_name": "LayoutView",
      "align_content": null,
      "align_items": null,
      "align_self": null,
      "border": null,
      "bottom": null,
      "display": null,
      "flex": null,
      "flex_flow": null,
      "grid_area": null,
      "grid_auto_columns": null,
      "grid_auto_flow": null,
      "grid_auto_rows": null,
      "grid_column": null,
      "grid_gap": null,
      "grid_row": null,
      "grid_template_areas": null,
      "grid_template_columns": null,
      "grid_template_rows": null,
      "height": null,
      "justify_content": null,
      "justify_items": null,
      "left": null,
      "margin": null,
      "max_height": null,
      "max_width": null,
      "min_height": null,
      "min_width": null,
      "object_fit": null,
      "object_position": null,
      "order": null,
      "overflow": null,
      "overflow_x": null,
      "overflow_y": null,
      "padding": null,
      "right": null,
      "top": null,
      "visibility": null,
      "width": null
     }
    },
    "2b542697bf9544d697ee2f0e4bd2b606": {
     "model_module": "@jupyter-widgets/base",
     "model_module_version": "1.2.0",
     "model_name": "LayoutModel",
     "state": {
      "_model_module": "@jupyter-widgets/base",
      "_model_module_version": "1.2.0",
      "_model_name": "LayoutModel",
      "_view_count": null,
      "_view_module": "@jupyter-widgets/base",
      "_view_module_version": "1.2.0",
      "_view_name": "LayoutView",
      "align_content": null,
      "align_items": null,
      "align_self": null,
      "border": null,
      "bottom": null,
      "display": null,
      "flex": null,
      "flex_flow": null,
      "grid_area": null,
      "grid_auto_columns": null,
      "grid_auto_flow": null,
      "grid_auto_rows": null,
      "grid_column": null,
      "grid_gap": null,
      "grid_row": null,
      "grid_template_areas": null,
      "grid_template_columns": null,
      "grid_template_rows": null,
      "height": null,
      "justify_content": null,
      "justify_items": null,
      "left": null,
      "margin": null,
      "max_height": null,
      "max_width": null,
      "min_height": null,
      "min_width": null,
      "object_fit": null,
      "object_position": null,
      "order": null,
      "overflow": null,
      "overflow_x": null,
      "overflow_y": null,
      "padding": null,
      "right": null,
      "top": null,
      "visibility": null,
      "width": null
     }
    },
    "2bc1dbb915ce4f1186fa676e9f6301de": {
     "model_module": "jupyter-threejs",
     "model_module_version": "^2.4.1",
     "model_name": "RendererModel",
     "state": {
      "_alpha": false,
      "_antialias": false,
      "_dom_classes": [],
      "_height": 400,
      "_model_module": "jupyter-threejs",
      "_model_module_version": "^2.4.1",
      "_model_name": "RendererModel",
      "_pause_autorender": false,
      "_view_count": null,
      "_view_module": "jupyter-threejs",
      "_view_module_version": "^2.4.1",
      "_view_name": "RendererView",
      "_webgl_version": 2,
      "_width": 400,
      "autoClear": true,
      "autoClearColor": true,
      "autoClearDepth": true,
      "autoClearStencil": true,
      "background": "black",
      "background_opacity": 1,
      "camera": "IPY_MODEL_ddc29f02aa314fdd978e6276d5480579",
      "clearColor": "#000000",
      "clearOpacity": 1,
      "clippingPlanes": [],
      "controls": [
       "IPY_MODEL_b8a04d91b4cd47fa87688ff9f1ea38f9"
      ],
      "gammaFactor": 2,
      "gammaInput": false,
      "gammaOutput": false,
      "layout": "IPY_MODEL_57168309d48d435b9bb35cc35d74bfab",
      "localClippingEnabled": false,
      "maxMorphNormals": 4,
      "maxMorphTargets": 8,
      "physicallyCorrectLights": false,
      "scene": "IPY_MODEL_dbab7873803240269200c6127681f2bc",
      "shadowMap": "IPY_MODEL_e997583df1ed454dbafb98a228147abf",
      "sortObject": true,
      "toneMapping": "LinearToneMapping",
      "toneMappingExposure": 1,
      "toneMappingWhitePoint": 1
     }
    },
    "2c2bd2c378ab4b1592189c53e44b3a73": {
     "model_module": "@jupyter-widgets/base",
     "model_module_version": "1.2.0",
     "model_name": "LayoutModel",
     "state": {
      "_model_module": "@jupyter-widgets/base",
      "_model_module_version": "1.2.0",
      "_model_name": "LayoutModel",
      "_view_count": null,
      "_view_module": "@jupyter-widgets/base",
      "_view_module_version": "1.2.0",
      "_view_name": "LayoutView",
      "align_content": null,
      "align_items": null,
      "align_self": null,
      "border": null,
      "bottom": null,
      "display": null,
      "flex": null,
      "flex_flow": null,
      "grid_area": null,
      "grid_auto_columns": null,
      "grid_auto_flow": null,
      "grid_auto_rows": null,
      "grid_column": null,
      "grid_gap": null,
      "grid_row": null,
      "grid_template_areas": null,
      "grid_template_columns": null,
      "grid_template_rows": null,
      "height": null,
      "justify_content": null,
      "justify_items": null,
      "left": null,
      "margin": null,
      "max_height": null,
      "max_width": null,
      "min_height": null,
      "min_width": null,
      "object_fit": null,
      "object_position": null,
      "order": null,
      "overflow": null,
      "overflow_x": null,
      "overflow_y": null,
      "padding": null,
      "right": null,
      "top": null,
      "visibility": null,
      "width": null
     }
    },
    "4de4b3c4d15e42de8119f918cb5fbe1f": {
     "model_module": "@jupyter-widgets/controls",
     "model_module_version": "1.5.0",
     "model_name": "DescriptionStyleModel",
     "state": {
      "_model_module": "@jupyter-widgets/controls",
      "_model_module_version": "1.5.0",
      "_model_name": "DescriptionStyleModel",
      "_view_count": null,
      "_view_module": "@jupyter-widgets/base",
      "_view_module_version": "1.2.0",
      "_view_name": "StyleView",
      "description_width": ""
     }
    },
    "585ad32aa7eb4f03a3e1e4b4014f28bd": {
     "model_module": "@jupyter-widgets/controls",
     "model_module_version": "1.5.0",
     "model_name": "HTMLModel",
     "state": {
      "_dom_classes": [],
      "_model_module": "@jupyter-widgets/controls",
      "_model_module_version": "1.5.0",
      "_model_name": "HTMLModel",
      "_view_count": null,
      "_view_module": "@jupyter-widgets/controls",
      "_view_module_version": "1.5.0",
      "_view_name": "HTMLView",
      "description": "",
      "description_tooltip": null,
      "layout": "IPY_MODEL_bd31421d9b924ca7aa194cd9f6e43ed0",
      "placeholder": "​",
      "style": "IPY_MODEL_4de4b3c4d15e42de8119f918cb5fbe1f",
      "value": "<div align=\"center\" style=\"font-size:16px;font-family:Helvetica;font-weight: bold;\">./cmo_homo.cube</div>"
     }
    },
    "5d9a4acaa56344d3baf419151c92dee2": {
     "model_module": "@jupyter-widgets/base",
     "model_module_version": "1.2.0",
     "model_name": "LayoutModel",
     "state": {
      "_model_module": "@jupyter-widgets/base",
      "_model_module_version": "1.2.0",
      "_model_name": "LayoutModel",
      "_view_count": null,
      "_view_module": "@jupyter-widgets/base",
      "_view_module_version": "1.2.0",
      "_view_name": "LayoutView",
      "align_content": null,
      "align_items": null,
      "align_self": null,
      "border": null,
      "bottom": null,
      "display": null,
      "flex": null,
      "flex_flow": null,
      "grid_area": null,
      "grid_auto_columns": null,
      "grid_auto_flow": null,
      "grid_auto_rows": null,
      "grid_column": null,
      "grid_gap": null,
      "grid_row": null,
      "grid_template_areas": null,
      "grid_template_columns": null,
      "grid_template_rows": null,
      "height": null,
      "justify_content": null,
      "justify_items": null,
      "left": null,
      "margin": null,
      "max_height": null,
      "max_width": null,
      "min_height": null,
      "min_width": null,
      "object_fit": null,
      "object_position": null,
      "order": null,
      "overflow": null,
      "overflow_x": null,
      "overflow_y": null,
      "padding": null,
      "right": null,
      "top": null,
      "visibility": null,
      "width": null
     }
    },
    "7199b1639d3249278c81577ff07a55d1": {
     "model_module": "@jupyter-widgets/controls",
     "model_module_version": "1.5.0",
     "model_name": "SelectModel",
     "state": {
      "_dom_classes": [],
      "_model_module": "@jupyter-widgets/controls",
      "_model_module_version": "1.5.0",
      "_model_name": "SelectModel",
      "_options_labels": [
       "./cmo_homo.cube"
      ],
      "_view_count": null,
      "_view_module": "@jupyter-widgets/controls",
      "_view_module_version": "1.5.0",
      "_view_name": "SelectView",
      "description": "Cube files:",
      "description_tooltip": null,
      "disabled": false,
      "index": 0,
      "layout": "IPY_MODEL_2b542697bf9544d697ee2f0e4bd2b606",
      "rows": 5,
      "style": "IPY_MODEL_73c62c71224d4d739f372a516112a98b"
     }
    },
    "73c62c71224d4d739f372a516112a98b": {
     "model_module": "@jupyter-widgets/controls",
     "model_module_version": "1.5.0",
     "model_name": "DescriptionStyleModel",
     "state": {
      "_model_module": "@jupyter-widgets/controls",
      "_model_module_version": "1.5.0",
      "_model_name": "DescriptionStyleModel",
      "_view_count": null,
      "_view_module": "@jupyter-widgets/base",
      "_view_module_version": "1.2.0",
      "_view_name": "StyleView",
      "description_width": ""
     }
    },
    "78b6db5fe03e4eb3af11d26246008b2d": {
     "model_module": "@jupyter-widgets/controls",
     "model_module_version": "1.5.0",
     "model_name": "DescriptionStyleModel",
     "state": {
      "_model_module": "@jupyter-widgets/controls",
      "_model_module_version": "1.5.0",
      "_model_name": "DescriptionStyleModel",
      "_view_count": null,
      "_view_module": "@jupyter-widgets/base",
      "_view_module_version": "1.2.0",
      "_view_name": "StyleView",
      "description_width": ""
     }
    },
    "85a0a3d30a8b471a98142956e60a6a75": {
     "model_module": "@jupyter-widgets/controls",
     "model_module_version": "1.5.0",
     "model_name": "HTMLModel",
     "state": {
      "_dom_classes": [],
      "_model_module": "@jupyter-widgets/controls",
      "_model_module_version": "1.5.0",
      "_model_name": "HTMLModel",
      "_view_count": null,
      "_view_module": "@jupyter-widgets/controls",
      "_view_module_version": "1.5.0",
      "_view_name": "HTMLView",
      "description": "",
      "description_tooltip": null,
      "layout": "IPY_MODEL_149acb5e62db4330b3a619ebc660450f",
      "placeholder": "​",
      "style": "IPY_MODEL_78b6db5fe03e4eb3af11d26246008b2d",
      "value": "\n        <style>\n           .jupyter-widgets-output-area .output_scroll {\n                height: unset !important;\n                border-radius: unset !important;\n                -webkit-box-shadow: unset !important;\n              box-shadow: unset !important;\n            }\n            .jupyter-widgets-output-area  {\n            height: auto !important;\n         }\n        </style>\n        "
     }
    },
    "bd31421d9b924ca7aa194cd9f6e43ed0": {
     "model_module": "@jupyter-widgets/base",
     "model_module_version": "1.2.0",
     "model_name": "LayoutModel",
     "state": {
      "_model_module": "@jupyter-widgets/base",
      "_model_module_version": "1.2.0",
      "_model_name": "LayoutModel",
      "_view_count": null,
      "_view_module": "@jupyter-widgets/base",
      "_view_module_version": "1.2.0",
      "_view_name": "LayoutView",
      "align_content": null,
      "align_items": null,
      "align_self": null,
      "border": null,
      "bottom": null,
      "display": null,
      "flex": null,
      "flex_flow": null,
      "grid_area": null,
      "grid_auto_columns": null,
      "grid_auto_flow": null,
      "grid_auto_rows": null,
      "grid_column": null,
      "grid_gap": null,
      "grid_row": null,
      "grid_template_areas": null,
      "grid_template_columns": null,
      "grid_template_rows": null,
      "height": null,
      "justify_content": null,
      "justify_items": null,
      "left": null,
      "margin": null,
      "max_height": null,
      "max_width": null,
      "min_height": null,
      "min_width": null,
      "object_fit": null,
      "object_position": null,
      "order": null,
      "overflow": null,
      "overflow_x": null,
      "overflow_y": null,
      "padding": null,
      "right": null,
      "top": null,
      "visibility": null,
      "width": null
     }
    },
    "c0d7986cb5d948e7ad0502b5c0ae62fd": {
     "model_module": "@jupyter-widgets/controls",
     "model_module_version": "1.5.0",
     "model_name": "VBoxModel",
     "state": {
      "_dom_classes": [],
      "_model_module": "@jupyter-widgets/controls",
      "_model_module_version": "1.5.0",
      "_model_name": "VBoxModel",
      "_view_count": null,
      "_view_module": "@jupyter-widgets/controls",
      "_view_module_version": "1.5.0",
      "_view_name": "VBoxView",
      "box_style": "",
      "children": [
       "IPY_MODEL_585ad32aa7eb4f03a3e1e4b4014f28bd",
       "IPY_MODEL_2bc1dbb915ce4f1186fa676e9f6301de",
       "IPY_MODEL_10d05d7ac17e42eabb5f04b311d2e1d0"
      ],
      "layout": "IPY_MODEL_0b73471822564a369f2d331b9cad01fd"
     }
    },
    "d83ce62dfa1645c190a35447c5c58c6f": {
     "model_module": "@jupyter-widgets/controls",
     "model_module_version": "1.5.0",
     "model_name": "VBoxModel",
     "state": {
      "_dom_classes": [
       "widget-interact"
      ],
      "_model_module": "@jupyter-widgets/controls",
      "_model_module_version": "1.5.0",
      "_model_name": "VBoxModel",
      "_view_count": null,
      "_view_module": "@jupyter-widgets/controls",
      "_view_module_version": "1.5.0",
      "_view_name": "VBoxView",
      "box_style": "",
      "children": [
       "IPY_MODEL_7199b1639d3249278c81577ff07a55d1",
       "IPY_MODEL_f0a9cf0a2eda4205a65091fbf715fcb2"
      ],
      "layout": "IPY_MODEL_5d9a4acaa56344d3baf419151c92dee2"
     }
    },
    "eb76a977fe754d2cbf274eab45aa1324": {
     "model_module": "@jupyter-widgets/controls",
     "model_module_version": "1.5.0",
     "model_name": "DescriptionStyleModel",
     "state": {
      "_model_module": "@jupyter-widgets/controls",
      "_model_module_version": "1.5.0",
      "_model_name": "DescriptionStyleModel",
      "_view_count": null,
      "_view_module": "@jupyter-widgets/base",
      "_view_module_version": "1.2.0",
      "_view_name": "StyleView",
      "description_width": ""
     }
    },
    "f0a9cf0a2eda4205a65091fbf715fcb2": {
     "model_module": "@jupyter-widgets/output",
     "model_module_version": "1.0.0",
     "model_name": "OutputModel",
     "state": {
      "_dom_classes": [],
      "_model_module": "@jupyter-widgets/output",
      "_model_module_version": "1.0.0",
      "_model_name": "OutputModel",
      "_view_count": null,
      "_view_module": "@jupyter-widgets/output",
      "_view_module_version": "1.0.0",
      "_view_name": "OutputView",
      "layout": "IPY_MODEL_2c2bd2c378ab4b1592189c53e44b3a73",
      "msg_id": "",
      "outputs": []
     }
    },
    "f0ac914f41a3421c88009a45c2387e77": {
     "model_module": "@jupyter-widgets/base",
     "model_module_version": "1.2.0",
     "model_name": "LayoutModel",
     "state": {
      "_model_module": "@jupyter-widgets/base",
      "_model_module_version": "1.2.0",
      "_model_name": "LayoutModel",
      "_view_count": null,
      "_view_module": "@jupyter-widgets/base",
      "_view_module_version": "1.2.0",
      "_view_name": "LayoutView",
      "align_content": null,
      "align_items": null,
      "align_self": null,
      "border": null,
      "bottom": null,
      "display": null,
      "flex": null,
      "flex_flow": null,
      "grid_area": null,
      "grid_auto_columns": null,
      "grid_auto_flow": null,
      "grid_auto_rows": null,
      "grid_column": null,
      "grid_gap": null,
      "grid_row": null,
      "grid_template_areas": null,
      "grid_template_columns": null,
      "grid_template_rows": null,
      "height": null,
      "justify_content": null,
      "justify_items": null,
      "left": null,
      "margin": null,
      "max_height": null,
      "max_width": null,
      "min_height": null,
      "min_width": null,
      "object_fit": null,
      "object_position": null,
      "order": null,
      "overflow": null,
      "overflow_x": null,
      "overflow_y": null,
      "padding": null,
      "right": null,
      "top": null,
      "visibility": null,
      "width": null
     }
    }
   }
  }
 },
 "nbformat": 4,
 "nbformat_minor": 4
}
