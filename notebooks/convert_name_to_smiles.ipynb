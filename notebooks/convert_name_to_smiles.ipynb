{
 "cells": [
  {
   "cell_type": "markdown",
   "metadata": {
    "id": "0-Q-IOIZ1ALB"
   },
   "source": [
    "# Convert molecule names to SMILES"
   ]
  },
  {
   "cell_type": "code",
   "execution_count": null,
   "metadata": {
    "colab": {
     "base_uri": "https://localhost:8080/"
    },
    "executionInfo": {
     "elapsed": 20351,
     "status": "ok",
     "timestamp": 1757075590078,
     "user": {
      "displayName": "Sharon Lam",
      "userId": "16351729373087846634"
     },
     "user_tz": -480
    },
    "id": "6x4Z8vTT1JZQ",
    "outputId": "90bc81c2-eaeb-4666-b6ae-fd952e0207f2"
   },
   "outputs": [],
   "source": [
    "!pip install git+https://github.com/mcs07/PubChemPy.git@a5d8646\n",
    "!pip install pandas"
   ]
  },
  {
   "cell_type": "code",
   "execution_count": null,
   "metadata": {
    "executionInfo": {
     "elapsed": 2917,
     "status": "ok",
     "timestamp": 1757075594499,
     "user": {
      "displayName": "Sharon Lam",
      "userId": "16351729373087846634"
     },
     "user_tz": -480
    },
    "id": "lSdEV-Ba1Elw"
   },
   "outputs": [],
   "source": [
    "import pubchempy as pcp\n",
    "import pandas as pd\n",
    "\n",
    "data = ['amoxicillin',\n",
    "\t\t\t\t'cefazolin',\n",
    "\t\t\t\t'meropenem',\n",
    "\t\t\t\t'aztreonam',\n",
    "\t\t\t\t'clavulanic acid']\n",
    "\n",
    "smiles = []\n",
    "\n",
    "for i in data:\n",
    "\ttry:\n",
    "\t\tsmiles.append(pcp.get_compounds(i,'name')[0].smiles)\n",
    "\texcept:\n",
    "\t\tsmiles.append(\"\")\n",
    "\n",
    "df_data = pd.DataFrame(data,columns=['name'])\n",
    "df_smiles = pd.DataFrame(smiles,columns=['smiles'])\n",
    "data_smiles = pd.concat([df_data, df_smiles],axis=1)"
   ]
  },
  {
   "cell_type": "code",
   "execution_count": null,
   "metadata": {
    "colab": {
     "base_uri": "https://localhost:8080/",
     "height": 206
    },
    "executionInfo": {
     "elapsed": 115,
     "status": "ok",
     "timestamp": 1757075596604,
     "user": {
      "displayName": "Sharon Lam",
      "userId": "16351729373087846634"
     },
     "user_tz": -480
    },
    "id": "mgXwLfRn16HH",
    "outputId": "f8c8ed27-e32a-403a-ca5a-5a83c4446c38"
   },
   "outputs": [],
   "source": [
    "data_smiles"
   ]
  },
  {
   "cell_type": "code",
   "execution_count": null,
   "metadata": {
    "executionInfo": {
     "elapsed": 12,
     "status": "ok",
     "timestamp": 1757075598777,
     "user": {
      "displayName": "Sharon Lam",
      "userId": "16351729373087846634"
     },
     "user_tz": -480
    },
    "id": "XTset1Uo19RI"
   },
   "outputs": [],
   "source": [
    "data_smiles.to_csv('data_smiles.csv',index=False)"
   ]
  },
  {
   "cell_type": "code",
   "execution_count": null,
   "metadata": {
    "id": "t8KlRaZI3eyr"
   },
   "outputs": [],
   "source": []
  }
 ],
 "metadata": {
  "colab": {
   "authorship_tag": "ABX9TyPKB9E0AZ34rf6qjEzD+BA2",
   "provenance": [],
   "toc_visible": true
  },
  "kernelspec": {
   "display_name": "Python 3 (ipykernel)",
   "language": "python",
   "name": "python3"
  },
  "language_info": {
   "codemirror_mode": {
    "name": "ipython",
    "version": 3
   },
   "file_extension": ".py",
   "mimetype": "text/x-python",
   "name": "python",
   "nbconvert_exporter": "python",
   "pygments_lexer": "ipython3",
   "version": "3.12.11"
  }
 },
 "nbformat": 4,
 "nbformat_minor": 4
}
