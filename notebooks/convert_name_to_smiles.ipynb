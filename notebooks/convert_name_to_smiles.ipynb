{
  "cells": [
    {
      "cell_type": "markdown",
      "metadata": {
        "id": "0-Q-IOIZ1ALB"
      },
      "source": [
        "# Convert molecule names to SMILES"
      ]
    },
    {
      "cell_type": "code",
      "execution_count": null,
      "metadata": {
        "id": "6x4Z8vTT1JZQ"
      },
      "outputs": [],
      "source": [
        "!pip install git+https://github.com/mcs07/PubChemPy.git@a5d8646\n",
        "!pip install pandas\n",
        "!pip install rdkit"
      ]
    },
    {
      "cell_type": "code",
      "execution_count": null,
      "metadata": {
        "id": "lSdEV-Ba1Elw"
      },
      "outputs": [],
      "source": [
        "import pubchempy as pcp\n",
        "import pandas as pd\n",
        "from rdkit.Chem import MolFromSmiles, Draw\n",
        "from rdkit.Chem.Draw import MolsToGridImage\n",
        "\n",
        "data = ['amoxicillin',\n",
        "\t\t\t\t'cefazolin',\n",
        "\t\t\t\t'meropenem',\n",
        "\t\t\t\t'aztreonam',\n",
        "\t\t\t\t'clavulanic acid']\n",
        "\n",
        "smiles = []\n",
        "\n",
        "for i in data:\n",
        "\ttry:\n",
        "\t\tsmiles.append(pcp.get_compounds(i,'name')[0].smiles)\n",
        "\texcept:\n",
        "\t\tsmiles.append(\"\")\n",
        "\n",
        "df_data = pd.DataFrame(data,columns=['name'])\n",
        "df_smiles = pd.DataFrame(smiles,columns=['smiles'])\n",
        "data_smiles = pd.concat([df_data, df_smiles],axis=1)"
      ]
    },
    {
      "cell_type": "code",
      "execution_count": null,
      "metadata": {
        "id": "mgXwLfRn16HH"
      },
      "outputs": [],
      "source": [
        "data_smiles"
      ]
    },
    {
      "cell_type": "code",
      "execution_count": null,
      "metadata": {
        "id": "t8KlRaZI3eyr"
      },
      "outputs": [],
      "source": [
        "mol = [MolFromSmiles(i) for i in data_smiles['smiles']]\n",
        "\n",
        "legends = []\n",
        "for i in range(len(data_smiles)):\n",
        "    name = data_smiles['name'].iloc[i]\n",
        "    legend = f'{name}'\n",
        "    legends.append(legend)\n",
        "\n",
        "opts = Draw.MolDrawOptions()\n",
        "img = MolsToGridImage(mol,\n",
        "                      subImgSize=(600, 300),\n",
        "                      legends=legends,\n",
        "                      returnPNG=True,\n",
        "                      drawOptions=opts)\n",
        "img"
      ]
    },
    {
      "cell_type": "code",
      "source": [],
      "metadata": {
        "id": "DDebpqKCbalU"
      },
      "execution_count": null,
      "outputs": []
    }
  ],
  "metadata": {
    "colab": {
      "provenance": [],
      "toc_visible": true,
      "authorship_tag": "ABX9TyOhRO7xHfaZMQv9cRb4jzgc"
    },
    "kernelspec": {
      "display_name": "Python 3 (ipykernel)",
      "language": "python",
      "name": "python3"
    },
    "language_info": {
      "codemirror_mode": {
        "name": "ipython",
        "version": 3
      },
      "file_extension": ".py",
      "mimetype": "text/x-python",
      "name": "python",
      "nbconvert_exporter": "python",
      "pygments_lexer": "ipython3",
      "version": "3.12.11"
    }
  },
  "nbformat": 4,
  "nbformat_minor": 0
}