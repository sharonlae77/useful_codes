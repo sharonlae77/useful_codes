{
 "cells": [
  {
   "cell_type": "code",
   "execution_count": null,
   "metadata": {
    "colab": {
     "base_uri": "https://localhost:8080/"
    },
    "executionInfo": {
     "elapsed": 13435,
     "status": "ok",
     "timestamp": 1757115759516,
     "user": {
      "displayName": "Sharon Lam",
      "userId": "16351729373087846634"
     },
     "user_tz": -480
    },
    "id": "EmvRbbZJX-ES",
    "outputId": "3630c122-361b-4823-a151-01d130f17081"
   },
   "outputs": [],
   "source": [
    "!pip install rdkit\n",
    "!pip install pandas"
   ]
  },
  {
   "cell_type": "code",
   "execution_count": null,
   "metadata": {
    "executionInfo": {
     "elapsed": 14,
     "status": "ok",
     "timestamp": 1757114988947,
     "user": {
      "displayName": "Sharon Lam",
      "userId": "16351729373087846634"
     },
     "user_tz": -480
    },
    "id": "C3DOZzFqLVS-"
   },
   "outputs": [],
   "source": [
    "import sys\n",
    "import os\n",
    "from rdkit.Chem import RDConfig, MolFromSmiles, Draw\n",
    "from rdkit.Chem.Draw import MolsToGridImage\n",
    "sys.path.append(os.path.join(RDConfig.RDContribDir,'SA_Score'))\n",
    "import sascorer\n",
    "import pandas as pd"
   ]
  },
  {
   "cell_type": "code",
   "execution_count": null,
   "metadata": {
    "executionInfo": {
     "elapsed": 97,
     "status": "ok",
     "timestamp": 1757114380442,
     "user": {
      "displayName": "Sharon Lam",
      "userId": "16351729373087846634"
     },
     "user_tz": -480
    },
    "id": "tkJQ11YXLPLk"
   },
   "outputs": [],
   "source": [
    "data_smiles = pd.read_csv('HIV.csv')"
   ]
  },
  {
   "cell_type": "code",
   "execution_count": null,
   "metadata": {
    "colab": {
     "base_uri": "https://localhost:8080/",
     "height": 206
    },
    "executionInfo": {
     "elapsed": 281,
     "status": "ok",
     "timestamp": 1757114386909,
     "user": {
      "displayName": "Sharon Lam",
      "userId": "16351729373087846634"
     },
     "user_tz": -480
    },
    "id": "X6XsJmNNLbvO",
    "outputId": "875a16a9-e7da-463d-b5bc-ddbe00793b1e"
   },
   "outputs": [],
   "source": [
    "data_smiles.head()"
   ]
  },
  {
   "cell_type": "code",
   "execution_count": null,
   "metadata": {
    "executionInfo": {
     "elapsed": 16,
     "status": "ok",
     "timestamp": 1757114431178,
     "user": {
      "displayName": "Sharon Lam",
      "userId": "16351729373087846634"
     },
     "user_tz": -480
    },
    "id": "05Lgwx90LdaX"
   },
   "outputs": [],
   "source": [
    "data_actives = data_smiles[data_smiles['HIV_active']==1].reset_index(drop=True)"
   ]
  },
  {
   "cell_type": "code",
   "execution_count": null,
   "metadata": {
    "executionInfo": {
     "elapsed": 1295,
     "status": "ok",
     "timestamp": 1757114480989,
     "user": {
      "displayName": "Sharon Lam",
      "userId": "16351729373087846634"
     },
     "user_tz": -480
    },
    "id": "xRsApPwLWo6L"
   },
   "outputs": [],
   "source": [
    "molecule = [MolFromSmiles(i) for i in data_actives['smiles']]\n",
    "sascores = [sascorer.calculateScore(mol) for mol in molecule]\n",
    "df_sascore = pd.concat([data_actives,pd.DataFrame(sascores,columns=['sa_score'])],axis=1)\n",
    "df_sascore_sorted = df_sascore.sort_values(by=['sa_score'])"
   ]
  },
  {
   "cell_type": "code",
   "execution_count": null,
   "metadata": {
    "executionInfo": {
     "elapsed": 8,
     "status": "ok",
     "timestamp": 1757114911194,
     "user": {
      "displayName": "Sharon Lam",
      "userId": "16351729373087846634"
     },
     "user_tz": -480
    },
    "id": "y10sxpE5NYSY"
   },
   "outputs": [],
   "source": [
    "top_5 = df_sascore_sorted.head(5)\n",
    "bottom_5 = df_sascore_sorted.tail(5)"
   ]
  },
  {
   "cell_type": "code",
   "execution_count": null,
   "metadata": {
    "colab": {
     "base_uri": "https://localhost:8080/",
     "height": 409
    },
    "executionInfo": {
     "elapsed": 94,
     "status": "ok",
     "timestamp": 1757115226053,
     "user": {
      "displayName": "Sharon Lam",
      "userId": "16351729373087846634"
     },
     "user_tz": -480
    },
    "id": "rLMmroqBNUwI",
    "outputId": "d6aabf9d-927b-405d-91b9-ee8f5c8a2cb1"
   },
   "outputs": [],
   "source": [
    "legends = []\n",
    "mol = [MolFromSmiles(i) for i in top_5['smiles']]\n",
    "for i in range(len(top_5)):\n",
    "    sa_score = top_5['sa_score'].iloc[i]\n",
    "    legend = f'SA Score = {round(sa_score,2)}'\n",
    "    legends.append(legend)\n",
    "\n",
    "opts = Draw.MolDrawOptions()\n",
    "img = MolsToGridImage(mol,\n",
    "                      subImgSize=(600, 300),\n",
    "                      legends=legends,\n",
    "                      returnPNG=True,\n",
    "                      drawOptions=opts)\n",
    "img"
   ]
  },
  {
   "cell_type": "code",
   "execution_count": null,
   "metadata": {
    "colab": {
     "base_uri": "https://localhost:8080/",
     "height": 409
    },
    "executionInfo": {
     "elapsed": 738,
     "status": "ok",
     "timestamp": 1757115233293,
     "user": {
      "displayName": "Sharon Lam",
      "userId": "16351729373087846634"
     },
     "user_tz": -480
    },
    "id": "LAku7k4oOJps",
    "outputId": "69abe027-226c-4210-aabe-04cf4d9cc725"
   },
   "outputs": [],
   "source": [
    "legends = []\n",
    "mol = [MolFromSmiles(i) for i in bottom_5['smiles']]\n",
    "for i in range(len(bottom_5)):\n",
    "    sa_score = bottom_5['sa_score'].iloc[i]\n",
    "\n",
    "    legend = f'SA Score = {round(sa_score,2)}'\n",
    "    legends.append(legend)\n",
    "\n",
    "opts = Draw.MolDrawOptions()\n",
    "img = MolsToGridImage(mol,\n",
    "                      subImgSize=(600, 300),\n",
    "                      legends=legends,\n",
    "                      returnPNG=True,\n",
    "                      drawOptions=opts)\n",
    "img"
   ]
  }
 ],
 "metadata": {
  "colab": {
   "authorship_tag": "ABX9TyOmDA+t9oFG4KmPc3YZ7Bkj",
   "provenance": []
  },
  "kernelspec": {
   "display_name": "Python 3 (ipykernel)",
   "language": "python",
   "name": "python3"
  },
  "language_info": {
   "codemirror_mode": {
    "name": "ipython",
    "version": 3
   },
   "file_extension": ".py",
   "mimetype": "text/x-python",
   "name": "python",
   "nbconvert_exporter": "python",
   "pygments_lexer": "ipython3",
   "version": "3.12.11"
  }
 },
 "nbformat": 4,
 "nbformat_minor": 4
}
